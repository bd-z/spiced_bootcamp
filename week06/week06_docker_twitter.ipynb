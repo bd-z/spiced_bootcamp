{
 "cells": [
  {
   "cell_type": "code",
   "execution_count": 9,
   "id": "e5571403",
   "metadata": {},
   "outputs": [],
   "source": [
    "\n",
    "import credentials\n",
    "import tweepy\n"
   ]
  },
  {
   "cell_type": "code",
   "execution_count": 10,
   "id": "59feee46",
   "metadata": {},
   "outputs": [],
   "source": [
    "\n",
    "import get_tweets"
   ]
  },
  {
   "cell_type": "code",
   "execution_count": 11,
   "id": "d32a9c00",
   "metadata": {},
   "outputs": [],
   "source": [
    "auth = tweepy.OAuthHandler(credentials.API_KEY, credentials.API_SECRET_KEY)\n",
    "auth.set_access_token(credentials.ACCESS_TOKEN, credentials.ACCESS_TOKEN_SECRET)\n"
   ]
  },
  {
   "cell_type": "code",
   "execution_count": 12,
   "id": "e9c7385a",
   "metadata": {},
   "outputs": [],
   "source": [
    "api=tweepy.API(auth)"
   ]
  },
  {
   "cell_type": "raw",
   "id": "0212a443",
   "metadata": {},
   "source": [
    "user=api.me()"
   ]
  },
  {
   "cell_type": "raw",
   "id": "762fd76a",
   "metadata": {},
   "source": [
    "user.name"
   ]
  },
  {
   "cell_type": "code",
   "execution_count": null,
   "id": "813ab009",
   "metadata": {},
   "outputs": [],
   "source": [
    "\n",
    "\n"
   ]
  },
  {
   "cell_type": "code",
   "execution_count": null,
   "id": "44ca0d9a",
   "metadata": {},
   "outputs": [],
   "source": []
  },
  {
   "cell_type": "code",
   "execution_count": 6,
   "id": "c5a75f5c",
   "metadata": {},
   "outputs": [],
   "source": [
    "import pymongo"
   ]
  },
  {
   "cell_type": "code",
   "execution_count": 7,
   "id": "0831ed88",
   "metadata": {},
   "outputs": [],
   "source": [
    "client = pymongo.MongoClient(host='localhost',port =27017)\n"
   ]
  },
  {
   "cell_type": "code",
   "execution_count": 8,
   "id": "de1a890d",
   "metadata": {},
   "outputs": [
    {
     "data": {
      "text/plain": [
       "['admin', 'config', 'local', 'spiced']"
      ]
     },
     "execution_count": 8,
     "metadata": {},
     "output_type": "execute_result"
    }
   ],
   "source": [
    "client.list_database_names()\n"
   ]
  },
  {
   "cell_type": "code",
   "execution_count": null,
   "id": "ae466eb2",
   "metadata": {},
   "outputs": [],
   "source": []
  }
 ],
 "metadata": {
  "kernelspec": {
   "display_name": "Python 3",
   "language": "python",
   "name": "python3"
  },
  "language_info": {
   "codemirror_mode": {
    "name": "ipython",
    "version": 3
   },
   "file_extension": ".py",
   "mimetype": "text/x-python",
   "name": "python",
   "nbconvert_exporter": "python",
   "pygments_lexer": "ipython3",
   "version": "3.8.8"
  }
 },
 "nbformat": 4,
 "nbformat_minor": 5
}
