{
 "cells": [
  {
   "cell_type": "code",
   "execution_count": 1,
   "id": "b10f74fb-6f67-4fbf-bdca-c0bd2bd7be30",
   "metadata": {},
   "outputs": [],
   "source": [
    "#Your exercises for the day:\n",
    "#Plotting exercises:\n",
    "#Draw a histogram that shows how many penguins of each species are in the data\n",
    "#Create a plot of your choosing that only shows the data of female Gentoos.\n",
    "#Create a scatterplot of the culmen length and depth where the size of the markers represent the Body mass of the penguin\n",
    "#Find at least one more way (besides a scatterplot) to visualize the relationship between culmen lenght and depth (or another bivariate distribution)\n",
    "#Aggregation exercises:\n",
    "#What is the percentage of male and female penguins in the dataset?\n",
    "#What is the weight of the lightest male and female penguin?\n",
    "#Find the penguin with the longest beak.\n",
    "# How much do all Gentoo-penguins weigh altogether?\n",
    "# Which Flipper Length value appears 21 times in the dataset?\n",
    "# With help of the pandas documentation, try and understand what this line of code does exactly: df.groupby(['Species', 'Sex'])['Sex'].count().unstack().plot.bar()"
   ]
  },
  {
   "cell_type": "code",
   "execution_count": 2,
   "id": "3e4174c1-0e59-45a9-b855-08859181fef9",
   "metadata": {},
   "outputs": [],
   "source": [
    "import pandas as pd\n"
   ]
  },
  {
   "cell_type": "code",
   "execution_count": 3,
   "id": "a0c6e977-933e-451f-8d5b-446194e3eaac",
   "metadata": {},
   "outputs": [
    {
     "data": {
      "text/html": [
       "<div>\n",
       "<style scoped>\n",
       "    .dataframe tbody tr th:only-of-type {\n",
       "        vertical-align: middle;\n",
       "    }\n",
       "\n",
       "    .dataframe tbody tr th {\n",
       "        vertical-align: top;\n",
       "    }\n",
       "\n",
       "    .dataframe thead th {\n",
       "        text-align: right;\n",
       "    }\n",
       "</style>\n",
       "<table border=\"1\" class=\"dataframe\">\n",
       "  <thead>\n",
       "    <tr style=\"text-align: right;\">\n",
       "      <th></th>\n",
       "      <th>1800</th>\n",
       "      <th>1801</th>\n",
       "      <th>1802</th>\n",
       "      <th>1803</th>\n",
       "      <th>1804</th>\n",
       "      <th>1805</th>\n",
       "      <th>1806</th>\n",
       "      <th>1807</th>\n",
       "      <th>1808</th>\n",
       "      <th>1809</th>\n",
       "      <th>...</th>\n",
       "      <th>2006</th>\n",
       "      <th>2007</th>\n",
       "      <th>2008</th>\n",
       "      <th>2009</th>\n",
       "      <th>2010</th>\n",
       "      <th>2011</th>\n",
       "      <th>2012</th>\n",
       "      <th>2013</th>\n",
       "      <th>2014</th>\n",
       "      <th>2015</th>\n",
       "    </tr>\n",
       "    <tr>\n",
       "      <th>Total fertility rate</th>\n",
       "      <th></th>\n",
       "      <th></th>\n",
       "      <th></th>\n",
       "      <th></th>\n",
       "      <th></th>\n",
       "      <th></th>\n",
       "      <th></th>\n",
       "      <th></th>\n",
       "      <th></th>\n",
       "      <th></th>\n",
       "      <th></th>\n",
       "      <th></th>\n",
       "      <th></th>\n",
       "      <th></th>\n",
       "      <th></th>\n",
       "      <th></th>\n",
       "      <th></th>\n",
       "      <th></th>\n",
       "      <th></th>\n",
       "      <th></th>\n",
       "      <th></th>\n",
       "    </tr>\n",
       "  </thead>\n",
       "  <tbody>\n",
       "    <tr>\n",
       "      <th>Abkhazia</th>\n",
       "      <td>NaN</td>\n",
       "      <td>NaN</td>\n",
       "      <td>NaN</td>\n",
       "      <td>NaN</td>\n",
       "      <td>NaN</td>\n",
       "      <td>NaN</td>\n",
       "      <td>NaN</td>\n",
       "      <td>NaN</td>\n",
       "      <td>NaN</td>\n",
       "      <td>NaN</td>\n",
       "      <td>...</td>\n",
       "      <td>NaN</td>\n",
       "      <td>NaN</td>\n",
       "      <td>NaN</td>\n",
       "      <td>NaN</td>\n",
       "      <td>NaN</td>\n",
       "      <td>NaN</td>\n",
       "      <td>NaN</td>\n",
       "      <td>NaN</td>\n",
       "      <td>NaN</td>\n",
       "      <td>NaN</td>\n",
       "    </tr>\n",
       "    <tr>\n",
       "      <th>Afghanistan</th>\n",
       "      <td>7.00</td>\n",
       "      <td>7.00</td>\n",
       "      <td>7.00</td>\n",
       "      <td>7.00</td>\n",
       "      <td>7.00</td>\n",
       "      <td>7.00</td>\n",
       "      <td>7.00</td>\n",
       "      <td>7.00</td>\n",
       "      <td>7.00</td>\n",
       "      <td>7.00</td>\n",
       "      <td>...</td>\n",
       "      <td>6.70</td>\n",
       "      <td>6.46</td>\n",
       "      <td>6.20</td>\n",
       "      <td>5.93</td>\n",
       "      <td>5.66</td>\n",
       "      <td>5.40</td>\n",
       "      <td>5.14</td>\n",
       "      <td>4.90</td>\n",
       "      <td>4.68</td>\n",
       "      <td>4.47</td>\n",
       "    </tr>\n",
       "    <tr>\n",
       "      <th>Akrotiri and Dhekelia</th>\n",
       "      <td>NaN</td>\n",
       "      <td>NaN</td>\n",
       "      <td>NaN</td>\n",
       "      <td>NaN</td>\n",
       "      <td>NaN</td>\n",
       "      <td>NaN</td>\n",
       "      <td>NaN</td>\n",
       "      <td>NaN</td>\n",
       "      <td>NaN</td>\n",
       "      <td>NaN</td>\n",
       "      <td>...</td>\n",
       "      <td>NaN</td>\n",
       "      <td>NaN</td>\n",
       "      <td>NaN</td>\n",
       "      <td>NaN</td>\n",
       "      <td>NaN</td>\n",
       "      <td>NaN</td>\n",
       "      <td>NaN</td>\n",
       "      <td>NaN</td>\n",
       "      <td>NaN</td>\n",
       "      <td>NaN</td>\n",
       "    </tr>\n",
       "    <tr>\n",
       "      <th>Albania</th>\n",
       "      <td>4.60</td>\n",
       "      <td>4.60</td>\n",
       "      <td>4.60</td>\n",
       "      <td>4.60</td>\n",
       "      <td>4.60</td>\n",
       "      <td>4.60</td>\n",
       "      <td>4.60</td>\n",
       "      <td>4.60</td>\n",
       "      <td>4.60</td>\n",
       "      <td>4.60</td>\n",
       "      <td>...</td>\n",
       "      <td>1.85</td>\n",
       "      <td>1.80</td>\n",
       "      <td>1.76</td>\n",
       "      <td>1.74</td>\n",
       "      <td>1.74</td>\n",
       "      <td>1.75</td>\n",
       "      <td>1.76</td>\n",
       "      <td>1.77</td>\n",
       "      <td>1.78</td>\n",
       "      <td>1.78</td>\n",
       "    </tr>\n",
       "    <tr>\n",
       "      <th>Algeria</th>\n",
       "      <td>6.99</td>\n",
       "      <td>6.99</td>\n",
       "      <td>6.99</td>\n",
       "      <td>6.99</td>\n",
       "      <td>6.99</td>\n",
       "      <td>6.99</td>\n",
       "      <td>6.99</td>\n",
       "      <td>6.99</td>\n",
       "      <td>6.99</td>\n",
       "      <td>6.99</td>\n",
       "      <td>...</td>\n",
       "      <td>2.58</td>\n",
       "      <td>2.66</td>\n",
       "      <td>2.73</td>\n",
       "      <td>2.78</td>\n",
       "      <td>2.82</td>\n",
       "      <td>2.83</td>\n",
       "      <td>2.82</td>\n",
       "      <td>2.80</td>\n",
       "      <td>2.76</td>\n",
       "      <td>2.71</td>\n",
       "    </tr>\n",
       "    <tr>\n",
       "      <th>...</th>\n",
       "      <td>...</td>\n",
       "      <td>...</td>\n",
       "      <td>...</td>\n",
       "      <td>...</td>\n",
       "      <td>...</td>\n",
       "      <td>...</td>\n",
       "      <td>...</td>\n",
       "      <td>...</td>\n",
       "      <td>...</td>\n",
       "      <td>...</td>\n",
       "      <td>...</td>\n",
       "      <td>...</td>\n",
       "      <td>...</td>\n",
       "      <td>...</td>\n",
       "      <td>...</td>\n",
       "      <td>...</td>\n",
       "      <td>...</td>\n",
       "      <td>...</td>\n",
       "      <td>...</td>\n",
       "      <td>...</td>\n",
       "      <td>...</td>\n",
       "    </tr>\n",
       "    <tr>\n",
       "      <th>Yugoslavia</th>\n",
       "      <td>NaN</td>\n",
       "      <td>NaN</td>\n",
       "      <td>NaN</td>\n",
       "      <td>NaN</td>\n",
       "      <td>NaN</td>\n",
       "      <td>NaN</td>\n",
       "      <td>NaN</td>\n",
       "      <td>NaN</td>\n",
       "      <td>NaN</td>\n",
       "      <td>NaN</td>\n",
       "      <td>...</td>\n",
       "      <td>NaN</td>\n",
       "      <td>NaN</td>\n",
       "      <td>NaN</td>\n",
       "      <td>NaN</td>\n",
       "      <td>NaN</td>\n",
       "      <td>NaN</td>\n",
       "      <td>NaN</td>\n",
       "      <td>NaN</td>\n",
       "      <td>NaN</td>\n",
       "      <td>NaN</td>\n",
       "    </tr>\n",
       "    <tr>\n",
       "      <th>Zambia</th>\n",
       "      <td>6.71</td>\n",
       "      <td>6.71</td>\n",
       "      <td>6.71</td>\n",
       "      <td>6.71</td>\n",
       "      <td>6.71</td>\n",
       "      <td>6.71</td>\n",
       "      <td>6.71</td>\n",
       "      <td>6.71</td>\n",
       "      <td>6.71</td>\n",
       "      <td>6.71</td>\n",
       "      <td>...</td>\n",
       "      <td>5.93</td>\n",
       "      <td>5.91</td>\n",
       "      <td>5.88</td>\n",
       "      <td>5.85</td>\n",
       "      <td>5.81</td>\n",
       "      <td>5.77</td>\n",
       "      <td>5.73</td>\n",
       "      <td>5.69</td>\n",
       "      <td>5.64</td>\n",
       "      <td>5.59</td>\n",
       "    </tr>\n",
       "    <tr>\n",
       "      <th>Zimbabwe</th>\n",
       "      <td>6.75</td>\n",
       "      <td>6.75</td>\n",
       "      <td>6.75</td>\n",
       "      <td>6.75</td>\n",
       "      <td>6.75</td>\n",
       "      <td>6.75</td>\n",
       "      <td>6.75</td>\n",
       "      <td>6.75</td>\n",
       "      <td>6.75</td>\n",
       "      <td>6.75</td>\n",
       "      <td>...</td>\n",
       "      <td>3.94</td>\n",
       "      <td>3.90</td>\n",
       "      <td>3.85</td>\n",
       "      <td>3.79</td>\n",
       "      <td>3.72</td>\n",
       "      <td>3.64</td>\n",
       "      <td>3.56</td>\n",
       "      <td>3.49</td>\n",
       "      <td>3.41</td>\n",
       "      <td>3.35</td>\n",
       "    </tr>\n",
       "    <tr>\n",
       "      <th>Åland</th>\n",
       "      <td>NaN</td>\n",
       "      <td>NaN</td>\n",
       "      <td>NaN</td>\n",
       "      <td>NaN</td>\n",
       "      <td>NaN</td>\n",
       "      <td>NaN</td>\n",
       "      <td>NaN</td>\n",
       "      <td>NaN</td>\n",
       "      <td>NaN</td>\n",
       "      <td>NaN</td>\n",
       "      <td>...</td>\n",
       "      <td>NaN</td>\n",
       "      <td>NaN</td>\n",
       "      <td>NaN</td>\n",
       "      <td>NaN</td>\n",
       "      <td>NaN</td>\n",
       "      <td>NaN</td>\n",
       "      <td>NaN</td>\n",
       "      <td>NaN</td>\n",
       "      <td>NaN</td>\n",
       "      <td>NaN</td>\n",
       "    </tr>\n",
       "    <tr>\n",
       "      <th>Åland</th>\n",
       "      <td>NaN</td>\n",
       "      <td>NaN</td>\n",
       "      <td>NaN</td>\n",
       "      <td>NaN</td>\n",
       "      <td>NaN</td>\n",
       "      <td>NaN</td>\n",
       "      <td>NaN</td>\n",
       "      <td>NaN</td>\n",
       "      <td>NaN</td>\n",
       "      <td>NaN</td>\n",
       "      <td>...</td>\n",
       "      <td>NaN</td>\n",
       "      <td>NaN</td>\n",
       "      <td>NaN</td>\n",
       "      <td>NaN</td>\n",
       "      <td>NaN</td>\n",
       "      <td>NaN</td>\n",
       "      <td>NaN</td>\n",
       "      <td>NaN</td>\n",
       "      <td>NaN</td>\n",
       "      <td>NaN</td>\n",
       "    </tr>\n",
       "  </tbody>\n",
       "</table>\n",
       "<p>260 rows × 216 columns</p>\n",
       "</div>"
      ],
      "text/plain": [
       "                       1800  1801  1802  1803  1804  1805  1806  1807  1808  \\\n",
       "Total fertility rate                                                          \n",
       "Abkhazia                NaN   NaN   NaN   NaN   NaN   NaN   NaN   NaN   NaN   \n",
       "Afghanistan            7.00  7.00  7.00  7.00  7.00  7.00  7.00  7.00  7.00   \n",
       "Akrotiri and Dhekelia   NaN   NaN   NaN   NaN   NaN   NaN   NaN   NaN   NaN   \n",
       "Albania                4.60  4.60  4.60  4.60  4.60  4.60  4.60  4.60  4.60   \n",
       "Algeria                6.99  6.99  6.99  6.99  6.99  6.99  6.99  6.99  6.99   \n",
       "...                     ...   ...   ...   ...   ...   ...   ...   ...   ...   \n",
       "Yugoslavia              NaN   NaN   NaN   NaN   NaN   NaN   NaN   NaN   NaN   \n",
       "Zambia                 6.71  6.71  6.71  6.71  6.71  6.71  6.71  6.71  6.71   \n",
       "Zimbabwe               6.75  6.75  6.75  6.75  6.75  6.75  6.75  6.75  6.75   \n",
       "Åland                   NaN   NaN   NaN   NaN   NaN   NaN   NaN   NaN   NaN   \n",
       "Åland                   NaN   NaN   NaN   NaN   NaN   NaN   NaN   NaN   NaN   \n",
       "\n",
       "                       1809  ...  2006  2007  2008  2009  2010  2011  2012  \\\n",
       "Total fertility rate         ...                                             \n",
       "Abkhazia                NaN  ...   NaN   NaN   NaN   NaN   NaN   NaN   NaN   \n",
       "Afghanistan            7.00  ...  6.70  6.46  6.20  5.93  5.66  5.40  5.14   \n",
       "Akrotiri and Dhekelia   NaN  ...   NaN   NaN   NaN   NaN   NaN   NaN   NaN   \n",
       "Albania                4.60  ...  1.85  1.80  1.76  1.74  1.74  1.75  1.76   \n",
       "Algeria                6.99  ...  2.58  2.66  2.73  2.78  2.82  2.83  2.82   \n",
       "...                     ...  ...   ...   ...   ...   ...   ...   ...   ...   \n",
       "Yugoslavia              NaN  ...   NaN   NaN   NaN   NaN   NaN   NaN   NaN   \n",
       "Zambia                 6.71  ...  5.93  5.91  5.88  5.85  5.81  5.77  5.73   \n",
       "Zimbabwe               6.75  ...  3.94  3.90  3.85  3.79  3.72  3.64  3.56   \n",
       "Åland                   NaN  ...   NaN   NaN   NaN   NaN   NaN   NaN   NaN   \n",
       "Åland                   NaN  ...   NaN   NaN   NaN   NaN   NaN   NaN   NaN   \n",
       "\n",
       "                       2013  2014  2015  \n",
       "Total fertility rate                     \n",
       "Abkhazia                NaN   NaN   NaN  \n",
       "Afghanistan            4.90  4.68  4.47  \n",
       "Akrotiri and Dhekelia   NaN   NaN   NaN  \n",
       "Albania                1.77  1.78  1.78  \n",
       "Algeria                2.80  2.76  2.71  \n",
       "...                     ...   ...   ...  \n",
       "Yugoslavia              NaN   NaN   NaN  \n",
       "Zambia                 5.69  5.64  5.59  \n",
       "Zimbabwe               3.49  3.41  3.35  \n",
       "Åland                   NaN   NaN   NaN  \n",
       "Åland                   NaN   NaN   NaN  \n",
       "\n",
       "[260 rows x 216 columns]"
      ]
     },
     "execution_count": 3,
     "metadata": {},
     "output_type": "execute_result"
    }
   ],
   "source": [
    "fert=pd.read_csv(\"gapminder_total_fertility.csv\", index_col=0)\n",
    "fert"
   ]
  },
  {
   "cell_type": "code",
   "execution_count": 4,
   "id": "2b443697-9b04-4519-a090-c84cf033c052",
   "metadata": {},
   "outputs": [
    {
     "ename": "FileNotFoundError",
     "evalue": "[Errno 2] No such file or directory: 'gapminder_lifeexpectancy.xlsx'",
     "output_type": "error",
     "traceback": [
      "\u001b[0;31m---------------------------------------------------------------------------\u001b[0m",
      "\u001b[0;31mFileNotFoundError\u001b[0m                         Traceback (most recent call last)",
      "\u001b[0;32m<ipython-input-4-a50f2c4795f1>\u001b[0m in \u001b[0;36m<module>\u001b[0;34m\u001b[0m\n\u001b[0;32m----> 1\u001b[0;31m \u001b[0mlife\u001b[0m\u001b[0;34m=\u001b[0m\u001b[0mpd\u001b[0m\u001b[0;34m.\u001b[0m\u001b[0mread_excel\u001b[0m\u001b[0;34m(\u001b[0m\u001b[0;34m'gapminder_lifeexpectancy.xlsx'\u001b[0m\u001b[0;34m,\u001b[0m \u001b[0mindex_col\u001b[0m\u001b[0;34m=\u001b[0m\u001b[0;36m0\u001b[0m\u001b[0;34m)\u001b[0m\u001b[0;34m\u001b[0m\u001b[0;34m\u001b[0m\u001b[0m\n\u001b[0m\u001b[1;32m      2\u001b[0m \u001b[0mlife\u001b[0m\u001b[0;34m.\u001b[0m\u001b[0mshape\u001b[0m\u001b[0;34m\u001b[0m\u001b[0;34m\u001b[0m\u001b[0m\n",
      "\u001b[0;32m~/anaconda3/lib/python3.8/site-packages/pandas/util/_decorators.py\u001b[0m in \u001b[0;36mwrapper\u001b[0;34m(*args, **kwargs)\u001b[0m\n\u001b[1;32m    297\u001b[0m                 )\n\u001b[1;32m    298\u001b[0m                 \u001b[0mwarnings\u001b[0m\u001b[0;34m.\u001b[0m\u001b[0mwarn\u001b[0m\u001b[0;34m(\u001b[0m\u001b[0mmsg\u001b[0m\u001b[0;34m,\u001b[0m \u001b[0mFutureWarning\u001b[0m\u001b[0;34m,\u001b[0m \u001b[0mstacklevel\u001b[0m\u001b[0;34m=\u001b[0m\u001b[0mstacklevel\u001b[0m\u001b[0;34m)\u001b[0m\u001b[0;34m\u001b[0m\u001b[0;34m\u001b[0m\u001b[0m\n\u001b[0;32m--> 299\u001b[0;31m             \u001b[0;32mreturn\u001b[0m \u001b[0mfunc\u001b[0m\u001b[0;34m(\u001b[0m\u001b[0;34m*\u001b[0m\u001b[0margs\u001b[0m\u001b[0;34m,\u001b[0m \u001b[0;34m**\u001b[0m\u001b[0mkwargs\u001b[0m\u001b[0;34m)\u001b[0m\u001b[0;34m\u001b[0m\u001b[0;34m\u001b[0m\u001b[0m\n\u001b[0m\u001b[1;32m    300\u001b[0m \u001b[0;34m\u001b[0m\u001b[0m\n\u001b[1;32m    301\u001b[0m         \u001b[0;32mreturn\u001b[0m \u001b[0mwrapper\u001b[0m\u001b[0;34m\u001b[0m\u001b[0;34m\u001b[0m\u001b[0m\n",
      "\u001b[0;32m~/anaconda3/lib/python3.8/site-packages/pandas/io/excel/_base.py\u001b[0m in \u001b[0;36mread_excel\u001b[0;34m(io, sheet_name, header, names, index_col, usecols, squeeze, dtype, engine, converters, true_values, false_values, skiprows, nrows, na_values, keep_default_na, na_filter, verbose, parse_dates, date_parser, thousands, comment, skipfooter, convert_float, mangle_dupe_cols, storage_options)\u001b[0m\n\u001b[1;32m    334\u001b[0m     \u001b[0;32mif\u001b[0m \u001b[0;32mnot\u001b[0m \u001b[0misinstance\u001b[0m\u001b[0;34m(\u001b[0m\u001b[0mio\u001b[0m\u001b[0;34m,\u001b[0m \u001b[0mExcelFile\u001b[0m\u001b[0;34m)\u001b[0m\u001b[0;34m:\u001b[0m\u001b[0;34m\u001b[0m\u001b[0;34m\u001b[0m\u001b[0m\n\u001b[1;32m    335\u001b[0m         \u001b[0mshould_close\u001b[0m \u001b[0;34m=\u001b[0m \u001b[0;32mTrue\u001b[0m\u001b[0;34m\u001b[0m\u001b[0;34m\u001b[0m\u001b[0m\n\u001b[0;32m--> 336\u001b[0;31m         \u001b[0mio\u001b[0m \u001b[0;34m=\u001b[0m \u001b[0mExcelFile\u001b[0m\u001b[0;34m(\u001b[0m\u001b[0mio\u001b[0m\u001b[0;34m,\u001b[0m \u001b[0mstorage_options\u001b[0m\u001b[0;34m=\u001b[0m\u001b[0mstorage_options\u001b[0m\u001b[0;34m,\u001b[0m \u001b[0mengine\u001b[0m\u001b[0;34m=\u001b[0m\u001b[0mengine\u001b[0m\u001b[0;34m)\u001b[0m\u001b[0;34m\u001b[0m\u001b[0;34m\u001b[0m\u001b[0m\n\u001b[0m\u001b[1;32m    337\u001b[0m     \u001b[0;32melif\u001b[0m \u001b[0mengine\u001b[0m \u001b[0;32mand\u001b[0m \u001b[0mengine\u001b[0m \u001b[0;34m!=\u001b[0m \u001b[0mio\u001b[0m\u001b[0;34m.\u001b[0m\u001b[0mengine\u001b[0m\u001b[0;34m:\u001b[0m\u001b[0;34m\u001b[0m\u001b[0;34m\u001b[0m\u001b[0m\n\u001b[1;32m    338\u001b[0m         raise ValueError(\n",
      "\u001b[0;32m~/anaconda3/lib/python3.8/site-packages/pandas/io/excel/_base.py\u001b[0m in \u001b[0;36m__init__\u001b[0;34m(self, path_or_buffer, engine, storage_options)\u001b[0m\n\u001b[1;32m   1069\u001b[0m                 \u001b[0mext\u001b[0m \u001b[0;34m=\u001b[0m \u001b[0;34m\"xls\"\u001b[0m\u001b[0;34m\u001b[0m\u001b[0;34m\u001b[0m\u001b[0m\n\u001b[1;32m   1070\u001b[0m             \u001b[0;32melse\u001b[0m\u001b[0;34m:\u001b[0m\u001b[0;34m\u001b[0m\u001b[0;34m\u001b[0m\u001b[0m\n\u001b[0;32m-> 1071\u001b[0;31m                 ext = inspect_excel_format(\n\u001b[0m\u001b[1;32m   1072\u001b[0m                     \u001b[0mcontent\u001b[0m\u001b[0;34m=\u001b[0m\u001b[0mpath_or_buffer\u001b[0m\u001b[0;34m,\u001b[0m \u001b[0mstorage_options\u001b[0m\u001b[0;34m=\u001b[0m\u001b[0mstorage_options\u001b[0m\u001b[0;34m\u001b[0m\u001b[0;34m\u001b[0m\u001b[0m\n\u001b[1;32m   1073\u001b[0m                 )\n",
      "\u001b[0;32m~/anaconda3/lib/python3.8/site-packages/pandas/io/excel/_base.py\u001b[0m in \u001b[0;36minspect_excel_format\u001b[0;34m(path, content, storage_options)\u001b[0m\n\u001b[1;32m    947\u001b[0m     \u001b[0;32massert\u001b[0m \u001b[0mcontent_or_path\u001b[0m \u001b[0;32mis\u001b[0m \u001b[0;32mnot\u001b[0m \u001b[0;32mNone\u001b[0m\u001b[0;34m\u001b[0m\u001b[0;34m\u001b[0m\u001b[0m\n\u001b[1;32m    948\u001b[0m \u001b[0;34m\u001b[0m\u001b[0m\n\u001b[0;32m--> 949\u001b[0;31m     with get_handle(\n\u001b[0m\u001b[1;32m    950\u001b[0m         \u001b[0mcontent_or_path\u001b[0m\u001b[0;34m,\u001b[0m \u001b[0;34m\"rb\"\u001b[0m\u001b[0;34m,\u001b[0m \u001b[0mstorage_options\u001b[0m\u001b[0;34m=\u001b[0m\u001b[0mstorage_options\u001b[0m\u001b[0;34m,\u001b[0m \u001b[0mis_text\u001b[0m\u001b[0;34m=\u001b[0m\u001b[0;32mFalse\u001b[0m\u001b[0;34m\u001b[0m\u001b[0;34m\u001b[0m\u001b[0m\n\u001b[1;32m    951\u001b[0m     ) as handle:\n",
      "\u001b[0;32m~/anaconda3/lib/python3.8/site-packages/pandas/io/common.py\u001b[0m in \u001b[0;36mget_handle\u001b[0;34m(path_or_buf, mode, encoding, compression, memory_map, is_text, errors, storage_options)\u001b[0m\n\u001b[1;32m    649\u001b[0m         \u001b[0;32melse\u001b[0m\u001b[0;34m:\u001b[0m\u001b[0;34m\u001b[0m\u001b[0;34m\u001b[0m\u001b[0m\n\u001b[1;32m    650\u001b[0m             \u001b[0;31m# Binary mode\u001b[0m\u001b[0;34m\u001b[0m\u001b[0;34m\u001b[0m\u001b[0;34m\u001b[0m\u001b[0m\n\u001b[0;32m--> 651\u001b[0;31m             \u001b[0mhandle\u001b[0m \u001b[0;34m=\u001b[0m \u001b[0mopen\u001b[0m\u001b[0;34m(\u001b[0m\u001b[0mhandle\u001b[0m\u001b[0;34m,\u001b[0m \u001b[0mioargs\u001b[0m\u001b[0;34m.\u001b[0m\u001b[0mmode\u001b[0m\u001b[0;34m)\u001b[0m\u001b[0;34m\u001b[0m\u001b[0;34m\u001b[0m\u001b[0m\n\u001b[0m\u001b[1;32m    652\u001b[0m         \u001b[0mhandles\u001b[0m\u001b[0;34m.\u001b[0m\u001b[0mappend\u001b[0m\u001b[0;34m(\u001b[0m\u001b[0mhandle\u001b[0m\u001b[0;34m)\u001b[0m\u001b[0;34m\u001b[0m\u001b[0;34m\u001b[0m\u001b[0m\n\u001b[1;32m    653\u001b[0m \u001b[0;34m\u001b[0m\u001b[0m\n",
      "\u001b[0;31mFileNotFoundError\u001b[0m: [Errno 2] No such file or directory: 'gapminder_lifeexpectancy.xlsx'"
     ]
    }
   ],
   "source": [
    "life=pd.read_excel('gapminder_lifeexpectancy.xlsx', index_col=0)\n",
    "life.shape"
   ]
  },
  {
   "cell_type": "code",
   "execution_count": null,
   "id": "8e07acb3-460c-4ce8-9a71-0937094b143a",
   "metadata": {},
   "outputs": [],
   "source": [
    "life.columns\n",
    "fert.columns\n",
    "fert.columns=fert.columns.astype(int)"
   ]
  },
  {
   "cell_type": "code",
   "execution_count": null,
   "id": "3831360e-d67d-4ac4-83e9-819ad999dd79",
   "metadata": {},
   "outputs": [],
   "source": [
    "fert.index.name='country'\n",
    "fert.index"
   ]
  },
  {
   "cell_type": "code",
   "execution_count": null,
   "id": "d84db8a9-7bee-4241-b94a-b8e8f4c646b3",
   "metadata": {},
   "outputs": [],
   "source": [
    "fert=fert.reset_index()"
   ]
  },
  {
   "cell_type": "code",
   "execution_count": null,
   "id": "5b8859cc-79f2-40b8-9c57-147b73d2068f",
   "metadata": {},
   "outputs": [],
   "source": [
    "fert.head()"
   ]
  },
  {
   "cell_type": "code",
   "execution_count": null,
   "id": "b33dc55d-28e8-4b92-b60c-bae5ae557abe",
   "metadata": {},
   "outputs": [],
   "source": [
    "fert = fert.melt(id_vars='country', var_name='year', value_name = 'fertility_rate')\n",
    "fert"
   ]
  },
  {
   "cell_type": "code",
   "execution_count": null,
   "id": "204509d3-dd9a-4cae-b720-1a7a08bf9456",
   "metadata": {},
   "outputs": [],
   "source": [
    "fert2 = fert.melt(id_vars='country', var_name='year', value_name='fertility_rate')\n",
    "fert2"
   ]
  },
  {
   "cell_type": "code",
   "execution_count": null,
   "id": "a632f45d-a50a-4753-93c7-b78e1928ba29",
   "metadata": {},
   "outputs": [],
   "source": [
    "life.index.name = \"country\"\n"
   ]
  },
  {
   "cell_type": "code",
   "execution_count": null,
   "id": "2e5b25ee-e754-41d5-8ff7-1b40fec8aa3f",
   "metadata": {},
   "outputs": [],
   "source": [
    "life.index"
   ]
  },
  {
   "cell_type": "code",
   "execution_count": null,
   "id": "76d067d8-2372-44b5-8fd3-e221fb3cc37f",
   "metadata": {},
   "outputs": [],
   "source": [
    "life = life.reset_index()\n",
    "life.head(5)"
   ]
  },
  {
   "cell_type": "code",
   "execution_count": null,
   "id": "db5cc3e9-b587-44c9-881d-b5f855aa674a",
   "metadata": {},
   "outputs": [],
   "source": [
    "life = life.melt(id_vars='country',var_name='year',value_name='life_expec')"
   ]
  },
  {
   "cell_type": "code",
   "execution_count": null,
   "id": "94deeb70-dcb6-4a6d-bdb7-1d82f014f1b3",
   "metadata": {},
   "outputs": [],
   "source": [
    "life.head(5)"
   ]
  },
  {
   "cell_type": "code",
   "execution_count": null,
   "id": "c96eb50d-d6dd-48a2-9ab0-6898112f2c77",
   "metadata": {},
   "outputs": [],
   "source": [
    "popu=pd.read_excel(\"gapminder_population.xlsx\",index_col=0)\n",
    "popu.index.name=\"country\"\n",
    "popu.head(3)\n",
    "popu = popu.reset_index(drop=False)\n",
    "popu"
   ]
  },
  {
   "cell_type": "code",
   "execution_count": null,
   "id": "5089add4-7e58-47c5-a3e5-8ac99ca5d6ef",
   "metadata": {},
   "outputs": [],
   "source": [
    "#popu=popu.melt(id_vars='country', var_name = 'year', value_name= 'Population')\n",
    "# the column with name of year has problem\n",
    "popu=popu.melt(id_vars='country')\n",
    "\n",
    "popu\n"
   ]
  },
  {
   "cell_type": "code",
   "execution_count": null,
   "id": "c51ad0a2-0913-4747-a041-9499079062e0",
   "metadata": {},
   "outputs": [],
   "source": [
    "#popu=popu.melt(id_vars='country',var_name = 'year', value_name='papulation')\n",
    "popu=popu.rename(columns={'variable':'year','value':'population'})\n",
    "popu"
   ]
  },
  {
   "cell_type": "code",
   "execution_count": null,
   "id": "59f5eb8b-d9e2-4142-b51f-0f43161ac0f2",
   "metadata": {},
   "outputs": [],
   "source": [
    "df=fert.merge(life)\n",
    "df"
   ]
  },
  {
   "cell_type": "code",
   "execution_count": null,
   "id": "54ce2064-f775-4087-80ab-eb7c60699563",
   "metadata": {},
   "outputs": [],
   "source": [
    "df=df.merge(popu)\n",
    "df"
   ]
  },
  {
   "cell_type": "code",
   "execution_count": null,
   "id": "50a1fee1-466b-42ee-a9ec-4e53f528766b",
   "metadata": {},
   "outputs": [],
   "source": [
    "df_y=df[df['year']>1959]\n",
    "df_y_cl=df_y.dropna()\n",
    "df_y_cl"
   ]
  },
  {
   "cell_type": "code",
   "execution_count": null,
   "id": "99395fd2-2ae2-4d88-88c7-efbd889a88cd",
   "metadata": {},
   "outputs": [],
   "source": [
    "\n",
    "        "
   ]
  },
  {
   "cell_type": "code",
   "execution_count": null,
   "id": "ff1941ff-fb96-4682-92a4-3e23e29e8237",
   "metadata": {},
   "outputs": [],
   "source": []
  },
  {
   "cell_type": "code",
   "execution_count": null,
   "id": "30f49ea7-a413-4d12-9058-ef1cd196e906",
   "metadata": {},
   "outputs": [],
   "source": [
    "df['country'].isin(['France', 'Germany', 'Sweden'])"
   ]
  },
  {
   "cell_type": "code",
   "execution_count": null,
   "id": "40fd356c-15e8-402c-bcbf-e5903b74ae7b",
   "metadata": {},
   "outputs": [],
   "source": [
    "df_subset = df.loc[df['country'].isin(['France', 'Germany', 'Sweden'])]\n",
    "df_subset"
   ]
  },
  {
   "cell_type": "code",
   "execution_count": null,
   "id": "c2a80427-da4a-4f15-8a7c-a4f6da052254",
   "metadata": {},
   "outputs": [],
   "source": [
    "import seaborn as sns\n",
    "import matplotlib.pyplot as plt\n",
    "sns.lineplot(x='year',y='life_expec',hue='country',data=df_subset)"
   ]
  },
  {
   "cell_type": "code",
   "execution_count": null,
   "id": "22756369-867c-47b6-bffc-31165d6ddd6a",
   "metadata": {},
   "outputs": [],
   "source": [
    "sns.scatterplot(x='year',y='life_expec',hue='country',data=df_subset, alpha=0.6)"
   ]
  },
  {
   "cell_type": "code",
   "execution_count": null,
   "id": "9d1619f4-b053-4a58-9fa6-c9dd6651fb0e",
   "metadata": {},
   "outputs": [],
   "source": [
    "df_subset_y=df_subset[df['year']>1959]\n",
    "df_subset_y"
   ]
  },
  {
   "cell_type": "code",
   "execution_count": null,
   "id": "7cd8e3ad-2dc7-4466-9428-6c6356677219",
   "metadata": {},
   "outputs": [],
   "source": [
    "df_subset_y"
   ]
  },
  {
   "cell_type": "code",
   "execution_count": null,
   "id": "3ee55c32-8584-4809-a0b8-c18f3e22fa53",
   "metadata": {},
   "outputs": [],
   "source": [
    "# df_y=df[df['year']>1959]\n",
    "# df_y_cl=df_y.dropna()\n",
    "# df_y_cl\n",
    "# df_y_cl_1960=df_y_cl[df_y_cl['year']==1960]\n",
    "# df_y_cl_1960\n",
    "# fig,ax=plt.subplots(figsize=(7,7))\n",
    "# ax= sns.scatterplot(data=df_y_cl_1960, y='fertility_rate',x='life_expec')\n",
    "\n",
    "# plt.savefig('df_y_cl_1960.png')\n",
    "# plt.show()\n",
    "# for i in range(1960,2016):\n",
    "#     df_y_n=df_y_cl[df_y_cl['year']== i]\n",
    "#     fig,ax=plt.subplots(figsize=(7,7))\n",
    "#     ax= sns.scatterplot(data=df_y_n, y='fertility_rate',x='life_expec')\n",
    "#     plt.title(\"Fertility_rate and life_expection in year {}\".format(i))\n",
    "#     plt.savefig('df_y_cl_{}.png'.format(i))\n",
    "#     plt.show()\n",
    "    "
   ]
  },
  {
   "cell_type": "code",
   "execution_count": null,
   "id": "243ddb9b-8c96-4e29-acb5-c3bffdbdd01a",
   "metadata": {},
   "outputs": [],
   "source": []
  },
  {
   "cell_type": "code",
   "execution_count": null,
   "id": "c51d6051-1247-41c1-b85a-d4e990006d41",
   "metadata": {},
   "outputs": [],
   "source": [
    "#(df_y_cl['population']/1000000).describe()\n",
    "\n",
    "df_y_cl.loc[(df_y_cl['population']> 10000000)&(df_y_cl['population']<5000000),'country_size']='L'  \n",
    "    \n",
    "#elif df_y_cl['population'] > 10000000 & df_y_cl['population'] < 40000000:\n",
    "#     df_y_cl['country_size']='M'\n",
    "# df_y_cl['country_size']='S'\n",
    "df_y_cl.loc[df_y_cl['population']>50000000,'country_size'] = 'M'\n",
    "\n",
    "df_y_cl.loc[df_y_cl['population']<10000000,'country_size'] = 'S'"
   ]
  },
  {
   "cell_type": "code",
   "execution_count": null,
   "id": "022faff6-cc70-431d-bb04-fa8d4c502391",
   "metadata": {},
   "outputs": [],
   "source": [
    "df_y_cl['country_size']"
   ]
  },
  {
   "cell_type": "code",
   "execution_count": null,
   "id": "2312f9bc-70aa-4878-8e3f-53ad49706f85",
   "metadata": {},
   "outputs": [],
   "source": [
    "pip install imageio\n"
   ]
  },
  {
   "cell_type": "code",
   "execution_count": null,
   "id": "f5d75962-3420-4551-8ec1-c667416eb663",
   "metadata": {},
   "outputs": [],
   "source": [
    "df_y_cl['population']"
   ]
  },
  {
   "cell_type": "code",
   "execution_count": null,
   "id": "0b2b88c1-22d8-4c11-9558-5ac378a8fd4b",
   "metadata": {},
   "outputs": [],
   "source": [
    "import imageio\n",
    "\n",
    "images = []\n",
    "\n",
    "for i in range(2000, 2015):\n",
    "    filename = 'df_y_cl_{}.png'.format(i)\n",
    "    images.append(imageio.imread(filename))\n",
    "\n",
    "imageio.mimsave('output.gif', images, fps=20)"
   ]
  },
  {
   "cell_type": "code",
   "execution_count": null,
   "id": "b9f089df-1ec9-4672-9b49-f166f04fee85",
   "metadata": {},
   "outputs": [],
   "source": [
    "df_y_cl['population'].max()"
   ]
  },
  {
   "cell_type": "code",
   "execution_count": 5,
   "id": "4633f184-2cb2-49a7-9278-d56193d687b8",
   "metadata": {},
   "outputs": [
    {
     "ename": "NameError",
     "evalue": "name 'plt' is not defined",
     "output_type": "error",
     "traceback": [
      "\u001b[0;31m---------------------------------------------------------------------------\u001b[0m",
      "\u001b[0;31mNameError\u001b[0m                                 Traceback (most recent call last)",
      "\u001b[0;32m<ipython-input-5-88dfc25cac24>\u001b[0m in \u001b[0;36m<module>\u001b[0;34m\u001b[0m\n\u001b[0;32m----> 1\u001b[0;31m \u001b[0mfig\u001b[0m\u001b[0;34m,\u001b[0m\u001b[0max\u001b[0m\u001b[0;34m=\u001b[0m\u001b[0mplt\u001b[0m\u001b[0;34m.\u001b[0m\u001b[0msubplots\u001b[0m\u001b[0;34m(\u001b[0m\u001b[0mfigsize\u001b[0m\u001b[0;34m=\u001b[0m\u001b[0;34m(\u001b[0m\u001b[0;36m7\u001b[0m\u001b[0;34m,\u001b[0m\u001b[0;36m7\u001b[0m\u001b[0;34m)\u001b[0m\u001b[0;34m)\u001b[0m\u001b[0;34m\u001b[0m\u001b[0;34m\u001b[0m\u001b[0m\n\u001b[0m\u001b[1;32m      2\u001b[0m \u001b[0mdf_y_cl_1960\u001b[0m\u001b[0;34m=\u001b[0m\u001b[0mdf_y_cl\u001b[0m\u001b[0;34m[\u001b[0m\u001b[0mdf_y_cl\u001b[0m\u001b[0;34m[\u001b[0m\u001b[0;34m'year'\u001b[0m\u001b[0;34m]\u001b[0m\u001b[0;34m==\u001b[0m\u001b[0;36m1960\u001b[0m\u001b[0;34m]\u001b[0m\u001b[0;34m\u001b[0m\u001b[0;34m\u001b[0m\u001b[0m\n\u001b[1;32m      3\u001b[0m ax= sns.scatterplot(data=df_y_cl_1960, y='fertility_rate',x='life_expec',hue='country_size',\n\u001b[1;32m      4\u001b[0m                     size='country_size',size_order=[\"S\",\"M\",\"L\"])\n",
      "\u001b[0;31mNameError\u001b[0m: name 'plt' is not defined"
     ]
    }
   ],
   "source": [
    "\n",
    "fig,ax=plt.subplots(figsize=(7,7))\n",
    "df_y_cl_1960=df_y_cl[df_y_cl['year']==1960]\n",
    "ax= sns.scatterplot(data=df_y_cl_1960, y='fertility_rate',x='life_expec',hue='country_size',\n",
    "                    size='country_size',size_order=[\"S\",\"M\",\"L\"])\n"
   ]
  },
  {
   "cell_type": "code",
   "execution_count": null,
   "id": "9433da05-050b-4e00-8ef5-6715c50ae09f",
   "metadata": {},
   "outputs": [],
   "source": []
  }
 ],
 "metadata": {
  "kernelspec": {
   "display_name": "Python 3",
   "language": "python",
   "name": "python3"
  },
  "language_info": {
   "codemirror_mode": {
    "name": "ipython",
    "version": 3
   },
   "file_extension": ".py",
   "mimetype": "text/x-python",
   "name": "python",
   "nbconvert_exporter": "python",
   "pygments_lexer": "ipython3",
   "version": "3.8.8"
  }
 },
 "nbformat": 4,
 "nbformat_minor": 5
}
