{
 "cells": [
  {
   "cell_type": "markdown",
   "id": "903296e9",
   "metadata": {},
   "source": [
    "# Use Linear Autoregression to find time lagged features"
   ]
  },
  {
   "cell_type": "code",
   "execution_count": 1,
   "id": "646b3f2e",
   "metadata": {},
   "outputs": [],
   "source": [
    "import pandas as pd\n",
    "import seaborn as sns\n",
    "import matplotlib.pyplot as plt\n",
    "from sklearn.linear_model import LinearRegression"
   ]
  },
  {
   "cell_type": "code",
   "execution_count": 2,
   "id": "02c4327a",
   "metadata": {},
   "outputs": [],
   "source": [
    "df=pd.read_csv('temp_remainder.csv')"
   ]
  },
  {
   "cell_type": "code",
   "execution_count": 3,
   "id": "f4a73afe",
   "metadata": {},
   "outputs": [],
   "source": [
    "df['lag1']=df['remainder'].shift(1)"
   ]
  },
  {
   "cell_type": "code",
   "execution_count": 4,
   "id": "9d438910",
   "metadata": {},
   "outputs": [],
   "source": [
    "df.dropna(inplace=True)"
   ]
  },
  {
   "cell_type": "code",
   "execution_count": 11,
   "id": "83e7e427",
   "metadata": {},
   "outputs": [
    {
     "data": {
      "text/plain": [
       "Index(['    DATE', 'remainder', 'lag1'], dtype='object')"
      ]
     },
     "execution_count": 11,
     "metadata": {},
     "output_type": "execute_result"
    }
   ],
   "source": [
    "df.columns"
   ]
  },
  {
   "cell_type": "code",
   "execution_count": 12,
   "id": "36edf77c",
   "metadata": {},
   "outputs": [
    {
     "data": {
      "text/plain": [
       "1        1876-01-02\n",
       "2        1876-01-03\n",
       "3        1876-01-04\n",
       "4        1876-01-05\n",
       "5        1876-01-06\n",
       "            ...    \n",
       "42911    1994-01-09\n",
       "42912    1994-01-10\n",
       "42913    1994-01-11\n",
       "42914    1994-01-12\n",
       "42915    1994-01-13\n",
       "Name:     DATE, Length: 42915, dtype: object"
      ]
     },
     "execution_count": 12,
     "metadata": {},
     "output_type": "execute_result"
    }
   ],
   "source": [
    "df['    DATE']"
   ]
  },
  {
   "cell_type": "code",
   "execution_count": 7,
   "id": "fd3a05da",
   "metadata": {},
   "outputs": [
    {
     "data": {
      "text/plain": [
       "Int64Index([    1,     2,     3,     4,     5,     6,     7,     8,     9,\n",
       "               10,\n",
       "            ...\n",
       "            42906, 42907, 42908, 42909, 42910, 42911, 42912, 42913, 42914,\n",
       "            42915],\n",
       "           dtype='int64', length=42915)"
      ]
     },
     "execution_count": 7,
     "metadata": {},
     "output_type": "execute_result"
    }
   ],
   "source": [
    "df.index"
   ]
  },
  {
   "cell_type": "code",
   "execution_count": 13,
   "id": "7ea774ce",
   "metadata": {},
   "outputs": [],
   "source": [
    "df = df[~((df['    DATE'] >= '1945-01-01') & (df['    DATE'] <= '1946-12-31'))]"
   ]
  },
  {
   "cell_type": "code",
   "execution_count": 14,
   "id": "778f3bd5",
   "metadata": {},
   "outputs": [],
   "source": [
    "df.to_csv('new_remainder.csv')"
   ]
  },
  {
   "cell_type": "code",
   "execution_count": 15,
   "id": "1f8459e1",
   "metadata": {},
   "outputs": [],
   "source": [
    "df=pd.read_csv('new_remainder.csv',parse_dates=True)"
   ]
  },
  {
   "cell_type": "code",
   "execution_count": 17,
   "id": "836b8ea3",
   "metadata": {},
   "outputs": [
    {
     "data": {
      "text/plain": [
       "Index(['Unnamed: 0', '    DATE', 'remainder', 'lag1'], dtype='object')"
      ]
     },
     "execution_count": 17,
     "metadata": {},
     "output_type": "execute_result"
    }
   ],
   "source": [
    "df.columns\n"
   ]
  },
  {
   "cell_type": "code",
   "execution_count": 22,
   "id": "4315a1f7",
   "metadata": {},
   "outputs": [
    {
     "data": {
      "text/html": [
       "<div>\n",
       "<style scoped>\n",
       "    .dataframe tbody tr th:only-of-type {\n",
       "        vertical-align: middle;\n",
       "    }\n",
       "\n",
       "    .dataframe tbody tr th {\n",
       "        vertical-align: top;\n",
       "    }\n",
       "\n",
       "    .dataframe thead th {\n",
       "        text-align: right;\n",
       "    }\n",
       "</style>\n",
       "<table border=\"1\" class=\"dataframe\">\n",
       "  <thead>\n",
       "    <tr style=\"text-align: right;\">\n",
       "      <th></th>\n",
       "      <th>Unnamed: 0</th>\n",
       "      <th>DATE</th>\n",
       "      <th>remainder</th>\n",
       "      <th>lag1</th>\n",
       "    </tr>\n",
       "  </thead>\n",
       "  <tbody>\n",
       "    <tr>\n",
       "      <th>0</th>\n",
       "      <td>1</td>\n",
       "      <td>1876-01-02</td>\n",
       "      <td>-60.302468</td>\n",
       "      <td>-63.302296</td>\n",
       "    </tr>\n",
       "    <tr>\n",
       "      <th>1</th>\n",
       "      <td>2</td>\n",
       "      <td>1876-01-03</td>\n",
       "      <td>-82.302640</td>\n",
       "      <td>-60.302468</td>\n",
       "    </tr>\n",
       "    <tr>\n",
       "      <th>2</th>\n",
       "      <td>3</td>\n",
       "      <td>1876-01-04</td>\n",
       "      <td>-143.302812</td>\n",
       "      <td>-82.302640</td>\n",
       "    </tr>\n",
       "    <tr>\n",
       "      <th>3</th>\n",
       "      <td>4</td>\n",
       "      <td>1876-01-05</td>\n",
       "      <td>-183.302984</td>\n",
       "      <td>-143.302812</td>\n",
       "    </tr>\n",
       "    <tr>\n",
       "      <th>4</th>\n",
       "      <td>5</td>\n",
       "      <td>1876-01-06</td>\n",
       "      <td>-162.303156</td>\n",
       "      <td>-183.302984</td>\n",
       "    </tr>\n",
       "    <tr>\n",
       "      <th>...</th>\n",
       "      <td>...</td>\n",
       "      <td>...</td>\n",
       "      <td>...</td>\n",
       "      <td>...</td>\n",
       "    </tr>\n",
       "    <tr>\n",
       "      <th>42375</th>\n",
       "      <td>42911</td>\n",
       "      <td>1994-01-09</td>\n",
       "      <td>-78.686682</td>\n",
       "      <td>-57.686510</td>\n",
       "    </tr>\n",
       "    <tr>\n",
       "      <th>42376</th>\n",
       "      <td>42912</td>\n",
       "      <td>1994-01-10</td>\n",
       "      <td>-70.686854</td>\n",
       "      <td>-78.686682</td>\n",
       "    </tr>\n",
       "    <tr>\n",
       "      <th>42377</th>\n",
       "      <td>42913</td>\n",
       "      <td>1994-01-11</td>\n",
       "      <td>-68.687026</td>\n",
       "      <td>-70.686854</td>\n",
       "    </tr>\n",
       "    <tr>\n",
       "      <th>42378</th>\n",
       "      <td>42914</td>\n",
       "      <td>1994-01-12</td>\n",
       "      <td>-30.687198</td>\n",
       "      <td>-68.687026</td>\n",
       "    </tr>\n",
       "    <tr>\n",
       "      <th>42379</th>\n",
       "      <td>42915</td>\n",
       "      <td>1994-01-13</td>\n",
       "      <td>-4.687370</td>\n",
       "      <td>-30.687198</td>\n",
       "    </tr>\n",
       "  </tbody>\n",
       "</table>\n",
       "<p>42380 rows × 4 columns</p>\n",
       "</div>"
      ],
      "text/plain": [
       "       Unnamed: 0        DATE   remainder        lag1\n",
       "0               1  1876-01-02  -60.302468  -63.302296\n",
       "1               2  1876-01-03  -82.302640  -60.302468\n",
       "2               3  1876-01-04 -143.302812  -82.302640\n",
       "3               4  1876-01-05 -183.302984 -143.302812\n",
       "4               5  1876-01-06 -162.303156 -183.302984\n",
       "...           ...         ...         ...         ...\n",
       "42375       42911  1994-01-09  -78.686682  -57.686510\n",
       "42376       42912  1994-01-10  -70.686854  -78.686682\n",
       "42377       42913  1994-01-11  -68.687026  -70.686854\n",
       "42378       42914  1994-01-12  -30.687198  -68.687026\n",
       "42379       42915  1994-01-13   -4.687370  -30.687198\n",
       "\n",
       "[42380 rows x 4 columns]"
      ]
     },
     "execution_count": 22,
     "metadata": {},
     "output_type": "execute_result"
    }
   ],
   "source": [
    "df.reset_index(drop=True)"
   ]
  },
  {
   "cell_type": "code",
   "execution_count": 20,
   "id": "1f15d037",
   "metadata": {},
   "outputs": [
    {
     "data": {
      "text/plain": [
       "<matplotlib.collections.PathCollection at 0x7fba813d8b20>"
      ]
     },
     "execution_count": 20,
     "metadata": {},
     "output_type": "execute_result"
    },
    {
     "data": {
      "image/png": "[encoded data removed]",
      "text/plain": [
       "<Figure size 432x288 with 1 Axes>"
      ]
     },
     "metadata": {
      "needs_background": "light"
     },
     "output_type": "display_data"
    }
   ],
   "source": [
    "plt.scatter(x='lag1',y='remainder',data=df)"
   ]
  },
  {
   "cell_type": "code",
   "execution_count": 22,
   "id": "4289c43e",
   "metadata": {},
   "outputs": [
    {
     "data": {
      "text/html": [
       "<div>\n",
       "<style scoped>\n",
       "    .dataframe tbody tr th:only-of-type {\n",
       "        vertical-align: middle;\n",
       "    }\n",
       "\n",
       "    .dataframe tbody tr th {\n",
       "        vertical-align: top;\n",
       "    }\n",
       "\n",
       "    .dataframe thead th {\n",
       "        text-align: right;\n",
       "    }\n",
       "</style>\n",
       "<table border=\"1\" class=\"dataframe\">\n",
       "  <thead>\n",
       "    <tr style=\"text-align: right;\">\n",
       "      <th></th>\n",
       "      <th>remainder</th>\n",
       "      <th>lag1</th>\n",
       "    </tr>\n",
       "  </thead>\n",
       "  <tbody>\n",
       "    <tr>\n",
       "      <th>remainder</th>\n",
       "      <td>1.00000</td>\n",
       "      <td>0.80075</td>\n",
       "    </tr>\n",
       "    <tr>\n",
       "      <th>lag1</th>\n",
       "      <td>0.80075</td>\n",
       "      <td>1.00000</td>\n",
       "    </tr>\n",
       "  </tbody>\n",
       "</table>\n",
       "</div>"
      ],
      "text/plain": [
       "           remainder     lag1\n",
       "remainder    1.00000  0.80075\n",
       "lag1         0.80075  1.00000"
      ]
     },
     "execution_count": 22,
     "metadata": {},
     "output_type": "execute_result"
    }
   ],
   "source": [
    "df.corr()"
   ]
  },
  {
   "cell_type": "code",
   "execution_count": 24,
   "id": "2d81b671",
   "metadata": {},
   "outputs": [
    {
     "data": {
      "text/plain": [
       "<AxesSubplot:>"
      ]
     },
     "execution_count": 24,
     "metadata": {},
     "output_type": "execute_result"
    },
    {
     "data": {
      "image/png": "[encoded data removed]",
      "text/plain": [
       "<Figure size 432x288 with 2 Axes>"
      ]
     },
     "metadata": {
      "needs_background": "light"
     },
     "output_type": "display_data"
    }
   ],
   "source": [
    "sns.heatmap(df.corr(),annot=True)"
   ]
  }
 ],
 "metadata": {
  "kernelspec": {
   "display_name": "Python 3",
   "language": "python",
   "name": "python3"
  },
  "language_info": {
   "codemirror_mode": {
    "name": "ipython",
    "version": 3
   },
   "file_extension": ".py",
   "mimetype": "text/x-python",
   "name": "python",
   "nbconvert_exporter": "python",
   "pygments_lexer": "ipython3",
   "version": "3.7.6"
  }
 },
 "nbformat": 4,
 "nbformat_minor": 5
}
