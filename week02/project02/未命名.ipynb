{
 "cells": [
  {
   "cell_type": "code",
   "execution_count": null,
   "id": "c44fbc3a",
   "metadata": {},
   "outputs": [],
   "source": [
    "import pandas as pd\n",
    "from pandas_profiling import ProfileReport\n",
    "\n",
    "X=pd.DataFrame([[7,3,5,7,9],[50,134,110,140,170]]).T\n",
    "y=pd.Series([25,27,29,31,33])\n",
    "X\n",
    "# y\n",
    "# profile=ProfileReport(X)"
   ]
  },
  {
   "cell_type": "code",
   "execution_count": 11,
   "id": "d80bafc9",
   "metadata": {},
   "outputs": [
    {
     "data": {
      "text/plain": [
       "array([36.25316456])"
      ]
     },
     "execution_count": 11,
     "metadata": {},
     "output_type": "execute_result"
    }
   ],
   "source": [
    "from sklearn.linear_model import LinearRegression\n",
    "m=LinearRegression()\n",
    "m.fit(X,y)\n",
    "X1=pd.DataFrame([[11,200]])\n",
    "m.predict(X1)"
   ]
  }
 ],
 "metadata": {
  "kernelspec": {
   "display_name": "Python 3",
   "language": "python",
   "name": "python3"
  },
  "language_info": {
   "codemirror_mode": {
    "name": "ipython",
    "version": 3
   },
   "file_extension": ".py",
   "mimetype": "text/x-python",
   "name": "python",
   "nbconvert_exporter": "python",
   "pygments_lexer": "ipython3",
   "version": "3.7.6"
  }
 },
 "nbformat": 4,
 "nbformat_minor": 5
}
