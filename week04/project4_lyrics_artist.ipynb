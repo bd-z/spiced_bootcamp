{
 "cells": [
  {
   "cell_type": "code",
   "execution_count": 111,
   "id": "711d8398",
   "metadata": {},
   "outputs": [],
   "source": [
    "import requests\n",
    "import re\n",
    "from bs4 import BeautifulSoup\n",
    "import os\n",
    "import pandas as pd\n",
    "import numpy as np\n",
    "from sklearn.feature_extraction.text import CountVectorizer\n",
    "from sklearn.utils import shuffle\n",
    "from sklearn.model_selection import train_test_split\n",
    "from sklearn.linear_model import LogisticRegression\n",
    "from sklearn import metrics\n",
    "from sklearn.metrics import f1_score, recall_score,precision_score,accuracy_score,roc_auc_score\n",
    "from sklearn.ensemble import RandomForestClassifier\n",
    "from sklearn.naive_bayes import GaussianNB\n",
    "from sklearn.naive_bayes import MultinomialNB"
   ]
  },
  {
   "cell_type": "code",
   "execution_count": 26,
   "id": "838aacda",
   "metadata": {},
   "outputs": [],
   "source": [
    "\n",
    "def sep_words(p):\n",
    "    \"\"\"this function seperate a sentence string to word strings\"\"\"\n",
    "    words = []\n",
    "    index = 0 #go through all the letters\n",
    "    start = 0 #markdown the start position of each word  \n",
    "    while index < len(p):\n",
    "        start = index\n",
    "        while p[index] != \" \" and p[index] not in[\".\", \",\"]:\n",
    "            index += 1   \n",
    "            if index == len(p):  \n",
    "                break   \n",
    "        words.append(p[start:index])\n",
    "        if index == len(p):\n",
    "            break\n",
    "        while p[index] == \" \" or p[index] in [\".\", \",\"]:\n",
    "            index += 1\n",
    "            if index ==len(p):\n",
    "                break\n",
    "    return words\n",
    "            \n",
    "\n",
    "def savesong(artist,song,content):\n",
    "    f=open(f'{song}.text','w')\n",
    "    f.write(str(content))\n",
    "    f.close()\n",
    "    \n"
   ]
  },
  {
   "cell_type": "code",
   "execution_count": 27,
   "id": "e6461e26",
   "metadata": {},
   "outputs": [],
   "source": [
    "def lownloadsongs(artist,url):\n",
    "    url=url\n",
    "    response=requests.get(url)\n",
    "    links_nw=re.findall('<a href=\"\\/lyric\\/.+?>',response.text)\n",
    "    nw_soup=BeautifulSoup(response.text)\n",
    "    list1=nw_soup.body.find_all('a')\n",
    "    link2=[]\n",
    "    for link in list1:\n",
    "        link2.append(link.get('href'))\n",
    "    song=[]\n",
    "    for link in link2:\n",
    "        if link.startswith('/lyric/'):\n",
    "            song.append(link)\n",
    "\n",
    "#     get the songs url\n",
    "    songurl=[]\n",
    "    pre='https://www.lyrics.com/'\n",
    "    for item in song:\n",
    "        url=pre+item\n",
    "        songurl.append(url)\n",
    "        \n",
    " \n",
    "    if not os.path.exists(artist):\n",
    "        # check whether this dictionary exist\n",
    "        os.makedirs(artist)\n",
    "      \n",
    "# get lyrics\n",
    "    for i in tqdm(songurl):\n",
    "        lyric_response=requests.get(i)\n",
    "        lyric_soup=BeautifulSoup(lyric_response.text)\n",
    "        try:\n",
    "            data=lyric_soup.body.find('pre',class_=\"lyric-body\").text.replace('\\n', ' ')\n",
    "            #x=sep_words(data)\n",
    "            p=songurl.index(i)\n",
    "            file_path= f'./{artist}/{p}.text'\n",
    "            file_path_dir = os.path.dirname(file_path)      #get the file dictionary\n",
    "           \n",
    "            f=open(file_path,'w')\n",
    "            f.write(str(data))\n",
    "            f.close\n",
    "        except:\n",
    "            print(i)\n",
    "\n",
    "        "
   ]
  },
  {
   "cell_type": "code",
   "execution_count": 4,
   "id": "9df05b06",
   "metadata": {},
   "outputs": [],
   "source": [
    "\n",
    "# lownloadsongs('nightwish_new','https://www.lyrics.com/artist/Nightwish/373181')\n",
    "\n"
   ]
  },
  {
   "cell_type": "markdown",
   "id": "2ef8baae",
   "metadata": {},
   "source": []
  },
  {
   "cell_type": "code",
   "execution_count": 5,
   "id": "0a731c5f",
   "metadata": {},
   "outputs": [],
   "source": [
    "\n",
    "#lownloadsongs('Ozzy-Osbourne','https://www.lyrics.com/artist/Ozzy-Osbourne/5079')"
   ]
  },
  {
   "cell_type": "code",
   "execution_count": null,
   "id": "8b20c4f2",
   "metadata": {},
   "outputs": [],
   "source": []
  },
  {
   "cell_type": "code",
   "execution_count": 28,
   "id": "18bb556e",
   "metadata": {},
   "outputs": [],
   "source": [
    "#  read data from files\n",
    "def mak_corpus(artist,filepath):\n",
    "    a=os.listdir(filepath)\n",
    "    bigtext=[]\n",
    "    art=[]\n",
    "    for i in a:\n",
    "        f = open(filepath+i, 'r') \n",
    "        c = f.read()\n",
    "        bigtext.append(c)\n",
    "        art.append(artist)\n",
    "        f.close()\n",
    "    return bigtext,art"
   ]
  },
  {
   "cell_type": "code",
   "execution_count": 7,
   "id": "c0006d21",
   "metadata": {},
   "outputs": [],
   "source": [
    "filepath_nw='C:\\\\Users\\\\zhang\\\\spiced_bootcamp\\\\downloaded_materials\\\\nightwish_new\\\\'"
   ]
  },
  {
   "cell_type": "code",
   "execution_count": 8,
   "id": "141b5378",
   "metadata": {},
   "outputs": [],
   "source": [
    "filepath_oz='C:\\\\Users\\\\zhang\\\\spiced_bootcamp\\\\downloaded_materials\\\\Ozzy-Osbourne\\\\'"
   ]
  },
  {
   "cell_type": "code",
   "execution_count": 51,
   "id": "2f4fce92",
   "metadata": {},
   "outputs": [],
   "source": [
    "niwi= mak_corpus('nightwish',filepath_nw)\n",
    "ozzy=mak_corpus('ozzy',filepath_oz)\n",
    "# niwi"
   ]
  },
  {
   "cell_type": "code",
   "execution_count": 30,
   "id": "7e9a0008",
   "metadata": {},
   "outputs": [],
   "source": [
    "# take the corpus and label from the last step\n",
    "corpus_nw=niwi[0]\n",
    "label_nw=niwi[1]\n",
    "corpus_oz=ozzy[0]\n",
    "label_oz=ozzy[1]\n",
    "\n",
    "# change corpus and label to Dataframe and merge them\n",
    "\n",
    "dnw={}\n",
    "dnw['lyric']=niwi[0]\n",
    "dnw['artist']=niwi[1]\n",
    "dfnw=pd.DataFrame(dnw)\n",
    "\n",
    "doz={}\n",
    "doz['lyric']=ozzy[0]\n",
    "doz['artist']=ozzy[1]\n",
    "dfoz=pd.DataFrame(doz)\n",
    "\n"
   ]
  },
  {
   "cell_type": "code",
   "execution_count": 52,
   "id": "937756bf",
   "metadata": {},
   "outputs": [],
   "source": [
    "df=pd.concat([dfnw,dfoz])\n",
    "df=df.reset_index(drop=True)\n",
    "# df"
   ]
  },
  {
   "cell_type": "code",
   "execution_count": 54,
   "id": "689bc58d",
   "metadata": {},
   "outputs": [],
   "source": [
    "df_shuffled = shuffle(df)\n",
    "df_shuffled\n",
    "X=df_shuffled['lyric']\n",
    "y=df_shuffled['artist']\n",
    "\n",
    "X_train, X_test, y_train, y_test = train_test_split(X, y, test_size=0.33, random_state=42)\n",
    "# X_train\n",
    "# y_train"
   ]
  },
  {
   "cell_type": "code",
   "execution_count": 33,
   "id": "cf9dc43a",
   "metadata": {},
   "outputs": [],
   "source": [
    "X_train_lst=X_train.tolist()\n",
    "X_test_lst=X_test.tolist()\n",
    "y_train_lst=y_train.tolist()\n",
    "y_test_lst=y_test.tolist()"
   ]
  },
  {
   "cell_type": "code",
   "execution_count": 34,
   "id": "f1d3545e",
   "metadata": {},
   "outputs": [
    {
     "data": {
      "text/plain": [
       "True"
      ]
     },
     "execution_count": 34,
     "metadata": {},
     "output_type": "execute_result"
    }
   ],
   "source": [
    "len(corpus_nw)==len(label_nw)\n"
   ]
  },
  {
   "cell_type": "code",
   "execution_count": null,
   "id": "1661215b",
   "metadata": {},
   "outputs": [],
   "source": []
  },
  {
   "cell_type": "code",
   "execution_count": 64,
   "id": "0f7cc00c",
   "metadata": {},
   "outputs": [],
   "source": [
    "vectorizer=CountVectorizer(stop_words='english')\n",
    "Xtrain=vectorizer.fit_transform(X_train_lst)\n",
    "\n",
    "X_y=pd.DataFrame(Xtrain.todense(),columns=vectorizer.get_feature_names(),index=y_train_lst)\n",
    "y=X_y.index.tolist()\n",
    "\n"
   ]
  },
  {
   "cell_type": "code",
   "execution_count": 150,
   "id": "584d6d24",
   "metadata": {},
   "outputs": [],
   "source": [
    "Xtest=vectorizer.transform(X_test_lst)\n",
    "Xtest_=pd.DataFrame(Xtest.todense(),columns=vectorizer.get_feature_names(),index=y_test_lst)\n",
    "ytest=Xtest_.index.tolist()"
   ]
  },
  {
   "cell_type": "code",
   "execution_count": 161,
   "id": "6a5aeb1e",
   "metadata": {},
   "outputs": [],
   "source": [
    "# X_y.reset_index(inplace=True)\n",
    "# "
   ]
  },
  {
   "cell_type": "code",
   "execution_count": 153,
   "id": "119240b5",
   "metadata": {},
   "outputs": [],
   "source": [
    "X_y.drop(['index','level_0'],axis=1,inplace=True)\n"
   ]
  },
  {
   "cell_type": "code",
   "execution_count": 154,
   "id": "647d2c87",
   "metadata": {},
   "outputs": [
    {
     "data": {
      "text/html": [
       "<div>\n",
       "<style scoped>\n",
       "    .dataframe tbody tr th:only-of-type {\n",
       "        vertical-align: middle;\n",
       "    }\n",
       "\n",
       "    .dataframe tbody tr th {\n",
       "        vertical-align: top;\n",
       "    }\n",
       "\n",
       "    .dataframe thead th {\n",
       "        text-align: right;\n",
       "    }\n",
       "</style>\n",
       "<table border=\"1\" class=\"dataframe\">\n",
       "  <thead>\n",
       "    <tr style=\"text-align: right;\">\n",
       "      <th></th>\n",
       "      <th>1000</th>\n",
       "      <th>1001</th>\n",
       "      <th>13th</th>\n",
       "      <th>1st</th>\n",
       "      <th>2005</th>\n",
       "      <th>25</th>\n",
       "      <th>30</th>\n",
       "      <th>3rd</th>\n",
       "      <th>7th</th>\n",
       "      <th>abandon</th>\n",
       "      <th>...</th>\n",
       "      <th>yuletide</th>\n",
       "      <th>zero</th>\n",
       "      <th>zillion</th>\n",
       "      <th>zodiac</th>\n",
       "      <th>zombie</th>\n",
       "      <th>zone</th>\n",
       "      <th>zoo</th>\n",
       "      <th>zoom</th>\n",
       "      <th>zoos</th>\n",
       "      <th>élan</th>\n",
       "    </tr>\n",
       "  </thead>\n",
       "  <tbody>\n",
       "    <tr>\n",
       "      <th>0</th>\n",
       "      <td>0</td>\n",
       "      <td>0</td>\n",
       "      <td>0</td>\n",
       "      <td>0</td>\n",
       "      <td>0</td>\n",
       "      <td>0</td>\n",
       "      <td>0</td>\n",
       "      <td>0</td>\n",
       "      <td>0</td>\n",
       "      <td>0</td>\n",
       "      <td>...</td>\n",
       "      <td>0</td>\n",
       "      <td>0</td>\n",
       "      <td>0</td>\n",
       "      <td>0</td>\n",
       "      <td>0</td>\n",
       "      <td>0</td>\n",
       "      <td>0</td>\n",
       "      <td>0</td>\n",
       "      <td>0</td>\n",
       "      <td>0</td>\n",
       "    </tr>\n",
       "    <tr>\n",
       "      <th>1</th>\n",
       "      <td>0</td>\n",
       "      <td>0</td>\n",
       "      <td>0</td>\n",
       "      <td>0</td>\n",
       "      <td>0</td>\n",
       "      <td>0</td>\n",
       "      <td>0</td>\n",
       "      <td>0</td>\n",
       "      <td>0</td>\n",
       "      <td>0</td>\n",
       "      <td>...</td>\n",
       "      <td>0</td>\n",
       "      <td>0</td>\n",
       "      <td>0</td>\n",
       "      <td>0</td>\n",
       "      <td>0</td>\n",
       "      <td>0</td>\n",
       "      <td>0</td>\n",
       "      <td>0</td>\n",
       "      <td>0</td>\n",
       "      <td>0</td>\n",
       "    </tr>\n",
       "    <tr>\n",
       "      <th>2</th>\n",
       "      <td>0</td>\n",
       "      <td>0</td>\n",
       "      <td>0</td>\n",
       "      <td>0</td>\n",
       "      <td>0</td>\n",
       "      <td>0</td>\n",
       "      <td>0</td>\n",
       "      <td>0</td>\n",
       "      <td>0</td>\n",
       "      <td>0</td>\n",
       "      <td>...</td>\n",
       "      <td>0</td>\n",
       "      <td>0</td>\n",
       "      <td>0</td>\n",
       "      <td>0</td>\n",
       "      <td>0</td>\n",
       "      <td>0</td>\n",
       "      <td>0</td>\n",
       "      <td>0</td>\n",
       "      <td>0</td>\n",
       "      <td>0</td>\n",
       "    </tr>\n",
       "    <tr>\n",
       "      <th>3</th>\n",
       "      <td>0</td>\n",
       "      <td>0</td>\n",
       "      <td>0</td>\n",
       "      <td>0</td>\n",
       "      <td>0</td>\n",
       "      <td>0</td>\n",
       "      <td>0</td>\n",
       "      <td>0</td>\n",
       "      <td>0</td>\n",
       "      <td>0</td>\n",
       "      <td>...</td>\n",
       "      <td>0</td>\n",
       "      <td>0</td>\n",
       "      <td>0</td>\n",
       "      <td>0</td>\n",
       "      <td>0</td>\n",
       "      <td>0</td>\n",
       "      <td>0</td>\n",
       "      <td>0</td>\n",
       "      <td>0</td>\n",
       "      <td>0</td>\n",
       "    </tr>\n",
       "    <tr>\n",
       "      <th>4</th>\n",
       "      <td>0</td>\n",
       "      <td>0</td>\n",
       "      <td>0</td>\n",
       "      <td>0</td>\n",
       "      <td>0</td>\n",
       "      <td>0</td>\n",
       "      <td>0</td>\n",
       "      <td>0</td>\n",
       "      <td>0</td>\n",
       "      <td>0</td>\n",
       "      <td>...</td>\n",
       "      <td>0</td>\n",
       "      <td>0</td>\n",
       "      <td>0</td>\n",
       "      <td>0</td>\n",
       "      <td>0</td>\n",
       "      <td>0</td>\n",
       "      <td>0</td>\n",
       "      <td>0</td>\n",
       "      <td>0</td>\n",
       "      <td>0</td>\n",
       "    </tr>\n",
       "    <tr>\n",
       "      <th>...</th>\n",
       "      <td>...</td>\n",
       "      <td>...</td>\n",
       "      <td>...</td>\n",
       "      <td>...</td>\n",
       "      <td>...</td>\n",
       "      <td>...</td>\n",
       "      <td>...</td>\n",
       "      <td>...</td>\n",
       "      <td>...</td>\n",
       "      <td>...</td>\n",
       "      <td>...</td>\n",
       "      <td>...</td>\n",
       "      <td>...</td>\n",
       "      <td>...</td>\n",
       "      <td>...</td>\n",
       "      <td>...</td>\n",
       "      <td>...</td>\n",
       "      <td>...</td>\n",
       "      <td>...</td>\n",
       "      <td>...</td>\n",
       "      <td>...</td>\n",
       "    </tr>\n",
       "    <tr>\n",
       "      <th>1278</th>\n",
       "      <td>0</td>\n",
       "      <td>0</td>\n",
       "      <td>0</td>\n",
       "      <td>0</td>\n",
       "      <td>0</td>\n",
       "      <td>0</td>\n",
       "      <td>0</td>\n",
       "      <td>0</td>\n",
       "      <td>0</td>\n",
       "      <td>0</td>\n",
       "      <td>...</td>\n",
       "      <td>0</td>\n",
       "      <td>0</td>\n",
       "      <td>0</td>\n",
       "      <td>0</td>\n",
       "      <td>0</td>\n",
       "      <td>0</td>\n",
       "      <td>0</td>\n",
       "      <td>0</td>\n",
       "      <td>0</td>\n",
       "      <td>0</td>\n",
       "    </tr>\n",
       "    <tr>\n",
       "      <th>1279</th>\n",
       "      <td>0</td>\n",
       "      <td>0</td>\n",
       "      <td>0</td>\n",
       "      <td>0</td>\n",
       "      <td>0</td>\n",
       "      <td>0</td>\n",
       "      <td>0</td>\n",
       "      <td>0</td>\n",
       "      <td>0</td>\n",
       "      <td>0</td>\n",
       "      <td>...</td>\n",
       "      <td>0</td>\n",
       "      <td>0</td>\n",
       "      <td>0</td>\n",
       "      <td>0</td>\n",
       "      <td>0</td>\n",
       "      <td>0</td>\n",
       "      <td>0</td>\n",
       "      <td>0</td>\n",
       "      <td>0</td>\n",
       "      <td>0</td>\n",
       "    </tr>\n",
       "    <tr>\n",
       "      <th>1280</th>\n",
       "      <td>0</td>\n",
       "      <td>0</td>\n",
       "      <td>0</td>\n",
       "      <td>0</td>\n",
       "      <td>0</td>\n",
       "      <td>0</td>\n",
       "      <td>0</td>\n",
       "      <td>0</td>\n",
       "      <td>0</td>\n",
       "      <td>0</td>\n",
       "      <td>...</td>\n",
       "      <td>0</td>\n",
       "      <td>0</td>\n",
       "      <td>0</td>\n",
       "      <td>0</td>\n",
       "      <td>0</td>\n",
       "      <td>0</td>\n",
       "      <td>0</td>\n",
       "      <td>0</td>\n",
       "      <td>0</td>\n",
       "      <td>0</td>\n",
       "    </tr>\n",
       "    <tr>\n",
       "      <th>1281</th>\n",
       "      <td>0</td>\n",
       "      <td>0</td>\n",
       "      <td>0</td>\n",
       "      <td>0</td>\n",
       "      <td>0</td>\n",
       "      <td>0</td>\n",
       "      <td>0</td>\n",
       "      <td>0</td>\n",
       "      <td>0</td>\n",
       "      <td>0</td>\n",
       "      <td>...</td>\n",
       "      <td>0</td>\n",
       "      <td>0</td>\n",
       "      <td>0</td>\n",
       "      <td>0</td>\n",
       "      <td>0</td>\n",
       "      <td>0</td>\n",
       "      <td>0</td>\n",
       "      <td>0</td>\n",
       "      <td>0</td>\n",
       "      <td>0</td>\n",
       "    </tr>\n",
       "    <tr>\n",
       "      <th>1282</th>\n",
       "      <td>0</td>\n",
       "      <td>0</td>\n",
       "      <td>0</td>\n",
       "      <td>0</td>\n",
       "      <td>0</td>\n",
       "      <td>0</td>\n",
       "      <td>0</td>\n",
       "      <td>0</td>\n",
       "      <td>0</td>\n",
       "      <td>0</td>\n",
       "      <td>...</td>\n",
       "      <td>0</td>\n",
       "      <td>0</td>\n",
       "      <td>0</td>\n",
       "      <td>0</td>\n",
       "      <td>0</td>\n",
       "      <td>0</td>\n",
       "      <td>0</td>\n",
       "      <td>0</td>\n",
       "      <td>0</td>\n",
       "      <td>0</td>\n",
       "    </tr>\n",
       "  </tbody>\n",
       "</table>\n",
       "<p>1283 rows × 4192 columns</p>\n",
       "</div>"
      ],
      "text/plain": [
       "      1000  1001  13th  1st  2005  25  30  3rd  7th  abandon  ...  yuletide  \\\n",
       "0        0     0     0    0     0   0   0    0    0        0  ...         0   \n",
       "1        0     0     0    0     0   0   0    0    0        0  ...         0   \n",
       "2        0     0     0    0     0   0   0    0    0        0  ...         0   \n",
       "3        0     0     0    0     0   0   0    0    0        0  ...         0   \n",
       "4        0     0     0    0     0   0   0    0    0        0  ...         0   \n",
       "...    ...   ...   ...  ...   ...  ..  ..  ...  ...      ...  ...       ...   \n",
       "1278     0     0     0    0     0   0   0    0    0        0  ...         0   \n",
       "1279     0     0     0    0     0   0   0    0    0        0  ...         0   \n",
       "1280     0     0     0    0     0   0   0    0    0        0  ...         0   \n",
       "1281     0     0     0    0     0   0   0    0    0        0  ...         0   \n",
       "1282     0     0     0    0     0   0   0    0    0        0  ...         0   \n",
       "\n",
       "      zero  zillion  zodiac  zombie  zone  zoo  zoom  zoos  élan  \n",
       "0        0        0       0       0     0    0     0     0     0  \n",
       "1        0        0       0       0     0    0     0     0     0  \n",
       "2        0        0       0       0     0    0     0     0     0  \n",
       "3        0        0       0       0     0    0     0     0     0  \n",
       "4        0        0       0       0     0    0     0     0     0  \n",
       "...    ...      ...     ...     ...   ...  ...   ...   ...   ...  \n",
       "1278     0        0       0       0     0    0     0     0     0  \n",
       "1279     0        0       0       0     0    0     0     0     0  \n",
       "1280     0        0       0       0     0    0     0     0     0  \n",
       "1281     0        0       0       0     0    0     0     0     0  \n",
       "1282     0        0       0       0     0    0     0     0     0  \n",
       "\n",
       "[1283 rows x 4192 columns]"
      ]
     },
     "execution_count": 154,
     "metadata": {},
     "output_type": "execute_result"
    }
   ],
   "source": [
    "X_y"
   ]
  },
  {
   "cell_type": "code",
   "execution_count": 155,
   "id": "1bfc560e",
   "metadata": {},
   "outputs": [],
   "source": [
    "lr_classifier=LogisticRegression().fit(X_y,y)"
   ]
  },
  {
   "cell_type": "code",
   "execution_count": 156,
   "id": "2f7fe788",
   "metadata": {},
   "outputs": [
    {
     "data": {
      "text/html": [
       "<div>\n",
       "<style scoped>\n",
       "    .dataframe tbody tr th:only-of-type {\n",
       "        vertical-align: middle;\n",
       "    }\n",
       "\n",
       "    .dataframe tbody tr th {\n",
       "        vertical-align: top;\n",
       "    }\n",
       "\n",
       "    .dataframe thead th {\n",
       "        text-align: right;\n",
       "    }\n",
       "</style>\n",
       "<table border=\"1\" class=\"dataframe\">\n",
       "  <thead>\n",
       "    <tr style=\"text-align: right;\">\n",
       "      <th></th>\n",
       "      <th>1000</th>\n",
       "      <th>1001</th>\n",
       "      <th>13th</th>\n",
       "      <th>1st</th>\n",
       "      <th>2005</th>\n",
       "      <th>25</th>\n",
       "      <th>30</th>\n",
       "      <th>3rd</th>\n",
       "      <th>7th</th>\n",
       "      <th>abandon</th>\n",
       "      <th>...</th>\n",
       "      <th>yuletide</th>\n",
       "      <th>zero</th>\n",
       "      <th>zillion</th>\n",
       "      <th>zodiac</th>\n",
       "      <th>zombie</th>\n",
       "      <th>zone</th>\n",
       "      <th>zoo</th>\n",
       "      <th>zoom</th>\n",
       "      <th>zoos</th>\n",
       "      <th>élan</th>\n",
       "    </tr>\n",
       "  </thead>\n",
       "  <tbody>\n",
       "    <tr>\n",
       "      <th>0</th>\n",
       "      <td>0</td>\n",
       "      <td>0</td>\n",
       "      <td>0</td>\n",
       "      <td>0</td>\n",
       "      <td>0</td>\n",
       "      <td>0</td>\n",
       "      <td>0</td>\n",
       "      <td>0</td>\n",
       "      <td>0</td>\n",
       "      <td>0</td>\n",
       "      <td>...</td>\n",
       "      <td>0</td>\n",
       "      <td>0</td>\n",
       "      <td>0</td>\n",
       "      <td>0</td>\n",
       "      <td>0</td>\n",
       "      <td>0</td>\n",
       "      <td>0</td>\n",
       "      <td>0</td>\n",
       "      <td>0</td>\n",
       "      <td>0</td>\n",
       "    </tr>\n",
       "    <tr>\n",
       "      <th>1</th>\n",
       "      <td>0</td>\n",
       "      <td>0</td>\n",
       "      <td>0</td>\n",
       "      <td>0</td>\n",
       "      <td>0</td>\n",
       "      <td>0</td>\n",
       "      <td>0</td>\n",
       "      <td>0</td>\n",
       "      <td>0</td>\n",
       "      <td>0</td>\n",
       "      <td>...</td>\n",
       "      <td>0</td>\n",
       "      <td>0</td>\n",
       "      <td>0</td>\n",
       "      <td>0</td>\n",
       "      <td>0</td>\n",
       "      <td>0</td>\n",
       "      <td>0</td>\n",
       "      <td>0</td>\n",
       "      <td>0</td>\n",
       "      <td>0</td>\n",
       "    </tr>\n",
       "    <tr>\n",
       "      <th>2</th>\n",
       "      <td>0</td>\n",
       "      <td>0</td>\n",
       "      <td>0</td>\n",
       "      <td>0</td>\n",
       "      <td>0</td>\n",
       "      <td>0</td>\n",
       "      <td>0</td>\n",
       "      <td>0</td>\n",
       "      <td>0</td>\n",
       "      <td>0</td>\n",
       "      <td>...</td>\n",
       "      <td>0</td>\n",
       "      <td>0</td>\n",
       "      <td>0</td>\n",
       "      <td>0</td>\n",
       "      <td>0</td>\n",
       "      <td>0</td>\n",
       "      <td>0</td>\n",
       "      <td>0</td>\n",
       "      <td>0</td>\n",
       "      <td>0</td>\n",
       "    </tr>\n",
       "    <tr>\n",
       "      <th>3</th>\n",
       "      <td>0</td>\n",
       "      <td>0</td>\n",
       "      <td>0</td>\n",
       "      <td>0</td>\n",
       "      <td>0</td>\n",
       "      <td>0</td>\n",
       "      <td>0</td>\n",
       "      <td>0</td>\n",
       "      <td>0</td>\n",
       "      <td>0</td>\n",
       "      <td>...</td>\n",
       "      <td>0</td>\n",
       "      <td>0</td>\n",
       "      <td>0</td>\n",
       "      <td>0</td>\n",
       "      <td>0</td>\n",
       "      <td>0</td>\n",
       "      <td>0</td>\n",
       "      <td>0</td>\n",
       "      <td>0</td>\n",
       "      <td>0</td>\n",
       "    </tr>\n",
       "    <tr>\n",
       "      <th>4</th>\n",
       "      <td>0</td>\n",
       "      <td>0</td>\n",
       "      <td>0</td>\n",
       "      <td>0</td>\n",
       "      <td>0</td>\n",
       "      <td>0</td>\n",
       "      <td>0</td>\n",
       "      <td>0</td>\n",
       "      <td>0</td>\n",
       "      <td>0</td>\n",
       "      <td>...</td>\n",
       "      <td>0</td>\n",
       "      <td>0</td>\n",
       "      <td>0</td>\n",
       "      <td>0</td>\n",
       "      <td>0</td>\n",
       "      <td>0</td>\n",
       "      <td>0</td>\n",
       "      <td>0</td>\n",
       "      <td>0</td>\n",
       "      <td>0</td>\n",
       "    </tr>\n",
       "    <tr>\n",
       "      <th>...</th>\n",
       "      <td>...</td>\n",
       "      <td>...</td>\n",
       "      <td>...</td>\n",
       "      <td>...</td>\n",
       "      <td>...</td>\n",
       "      <td>...</td>\n",
       "      <td>...</td>\n",
       "      <td>...</td>\n",
       "      <td>...</td>\n",
       "      <td>...</td>\n",
       "      <td>...</td>\n",
       "      <td>...</td>\n",
       "      <td>...</td>\n",
       "      <td>...</td>\n",
       "      <td>...</td>\n",
       "      <td>...</td>\n",
       "      <td>...</td>\n",
       "      <td>...</td>\n",
       "      <td>...</td>\n",
       "      <td>...</td>\n",
       "      <td>...</td>\n",
       "    </tr>\n",
       "    <tr>\n",
       "      <th>1278</th>\n",
       "      <td>0</td>\n",
       "      <td>0</td>\n",
       "      <td>0</td>\n",
       "      <td>0</td>\n",
       "      <td>0</td>\n",
       "      <td>0</td>\n",
       "      <td>0</td>\n",
       "      <td>0</td>\n",
       "      <td>0</td>\n",
       "      <td>0</td>\n",
       "      <td>...</td>\n",
       "      <td>0</td>\n",
       "      <td>0</td>\n",
       "      <td>0</td>\n",
       "      <td>0</td>\n",
       "      <td>0</td>\n",
       "      <td>0</td>\n",
       "      <td>0</td>\n",
       "      <td>0</td>\n",
       "      <td>0</td>\n",
       "      <td>0</td>\n",
       "    </tr>\n",
       "    <tr>\n",
       "      <th>1279</th>\n",
       "      <td>0</td>\n",
       "      <td>0</td>\n",
       "      <td>0</td>\n",
       "      <td>0</td>\n",
       "      <td>0</td>\n",
       "      <td>0</td>\n",
       "      <td>0</td>\n",
       "      <td>0</td>\n",
       "      <td>0</td>\n",
       "      <td>0</td>\n",
       "      <td>...</td>\n",
       "      <td>0</td>\n",
       "      <td>0</td>\n",
       "      <td>0</td>\n",
       "      <td>0</td>\n",
       "      <td>0</td>\n",
       "      <td>0</td>\n",
       "      <td>0</td>\n",
       "      <td>0</td>\n",
       "      <td>0</td>\n",
       "      <td>0</td>\n",
       "    </tr>\n",
       "    <tr>\n",
       "      <th>1280</th>\n",
       "      <td>0</td>\n",
       "      <td>0</td>\n",
       "      <td>0</td>\n",
       "      <td>0</td>\n",
       "      <td>0</td>\n",
       "      <td>0</td>\n",
       "      <td>0</td>\n",
       "      <td>0</td>\n",
       "      <td>0</td>\n",
       "      <td>0</td>\n",
       "      <td>...</td>\n",
       "      <td>0</td>\n",
       "      <td>0</td>\n",
       "      <td>0</td>\n",
       "      <td>0</td>\n",
       "      <td>0</td>\n",
       "      <td>0</td>\n",
       "      <td>0</td>\n",
       "      <td>0</td>\n",
       "      <td>0</td>\n",
       "      <td>0</td>\n",
       "    </tr>\n",
       "    <tr>\n",
       "      <th>1281</th>\n",
       "      <td>0</td>\n",
       "      <td>0</td>\n",
       "      <td>0</td>\n",
       "      <td>0</td>\n",
       "      <td>0</td>\n",
       "      <td>0</td>\n",
       "      <td>0</td>\n",
       "      <td>0</td>\n",
       "      <td>0</td>\n",
       "      <td>0</td>\n",
       "      <td>...</td>\n",
       "      <td>0</td>\n",
       "      <td>0</td>\n",
       "      <td>0</td>\n",
       "      <td>0</td>\n",
       "      <td>0</td>\n",
       "      <td>0</td>\n",
       "      <td>0</td>\n",
       "      <td>0</td>\n",
       "      <td>0</td>\n",
       "      <td>0</td>\n",
       "    </tr>\n",
       "    <tr>\n",
       "      <th>1282</th>\n",
       "      <td>0</td>\n",
       "      <td>0</td>\n",
       "      <td>0</td>\n",
       "      <td>0</td>\n",
       "      <td>0</td>\n",
       "      <td>0</td>\n",
       "      <td>0</td>\n",
       "      <td>0</td>\n",
       "      <td>0</td>\n",
       "      <td>0</td>\n",
       "      <td>...</td>\n",
       "      <td>0</td>\n",
       "      <td>0</td>\n",
       "      <td>0</td>\n",
       "      <td>0</td>\n",
       "      <td>0</td>\n",
       "      <td>0</td>\n",
       "      <td>0</td>\n",
       "      <td>0</td>\n",
       "      <td>0</td>\n",
       "      <td>0</td>\n",
       "    </tr>\n",
       "  </tbody>\n",
       "</table>\n",
       "<p>1283 rows × 4192 columns</p>\n",
       "</div>"
      ],
      "text/plain": [
       "      1000  1001  13th  1st  2005  25  30  3rd  7th  abandon  ...  yuletide  \\\n",
       "0        0     0     0    0     0   0   0    0    0        0  ...         0   \n",
       "1        0     0     0    0     0   0   0    0    0        0  ...         0   \n",
       "2        0     0     0    0     0   0   0    0    0        0  ...         0   \n",
       "3        0     0     0    0     0   0   0    0    0        0  ...         0   \n",
       "4        0     0     0    0     0   0   0    0    0        0  ...         0   \n",
       "...    ...   ...   ...  ...   ...  ..  ..  ...  ...      ...  ...       ...   \n",
       "1278     0     0     0    0     0   0   0    0    0        0  ...         0   \n",
       "1279     0     0     0    0     0   0   0    0    0        0  ...         0   \n",
       "1280     0     0     0    0     0   0   0    0    0        0  ...         0   \n",
       "1281     0     0     0    0     0   0   0    0    0        0  ...         0   \n",
       "1282     0     0     0    0     0   0   0    0    0        0  ...         0   \n",
       "\n",
       "      zero  zillion  zodiac  zombie  zone  zoo  zoom  zoos  élan  \n",
       "0        0        0       0       0     0    0     0     0     0  \n",
       "1        0        0       0       0     0    0     0     0     0  \n",
       "2        0        0       0       0     0    0     0     0     0  \n",
       "3        0        0       0       0     0    0     0     0     0  \n",
       "4        0        0       0       0     0    0     0     0     0  \n",
       "...    ...      ...     ...     ...   ...  ...   ...   ...   ...  \n",
       "1278     0        0       0       0     0    0     0     0     0  \n",
       "1279     0        0       0       0     0    0     0     0     0  \n",
       "1280     0        0       0       0     0    0     0     0     0  \n",
       "1281     0        0       0       0     0    0     0     0     0  \n",
       "1282     0        0       0       0     0    0     0     0     0  \n",
       "\n",
       "[1283 rows x 4192 columns]"
      ]
     },
     "execution_count": 156,
     "metadata": {},
     "output_type": "execute_result"
    }
   ],
   "source": [
    "X_y"
   ]
  },
  {
   "cell_type": "code",
   "execution_count": 160,
   "id": "b0ff59cc",
   "metadata": {},
   "outputs": [
    {
     "name": "stdout",
     "output_type": "stream",
     "text": [
      "('steal', 'mind', 'got', 'bless', 'thought', 'think', 'oh', 'god', 'll', 'head', 'ha', 'won', 'don', 'just', 'stood', 'stand', 'years', 'know', 've', 'yeah')\n",
      "('heart', 'instrumental', 'beauty', 'sea', 'heaven', 'did', 'ones', 'night', 'ocean', 'tale', 'beautiful', 'blue', 'far', 'wish', 'earth', 'child', 'home', 'rest', 'lost', 'dream')\n"
     ]
    }
   ],
   "source": [
    "import operator\n",
    "print(operator.itemgetter(*np.argsort(lr_classifier.coef_[0]))(vectorizer.get_feature_names())[-20:])\n",
    "print(operator.itemgetter(*np.argsort(lr_classifier.coef_[0]))(vectorizer.get_feature_names())[:20])"
   ]
  },
  {
   "cell_type": "code",
   "execution_count": 141,
   "id": "ed9e18c6",
   "metadata": {},
   "outputs": [
    {
     "data": {
      "text/plain": [
       "nightwish    335\n",
       "ozzy         298\n",
       "dtype: int64"
      ]
     },
     "execution_count": 141,
     "metadata": {},
     "output_type": "execute_result"
    }
   ],
   "source": [
    "Xtest_.index.value_counts()"
   ]
  },
  {
   "cell_type": "code",
   "execution_count": 157,
   "id": "2f09fd06",
   "metadata": {},
   "outputs": [],
   "source": [
    "y_test_pre=lr_classifier.predict(Xtest)\n",
    "y_train_pre=lr_classifier.predict(X_y)"
   ]
  },
  {
   "cell_type": "code",
   "execution_count": 158,
   "id": "85851772",
   "metadata": {
    "scrolled": true
   },
   "outputs": [
    {
     "name": "stdout",
     "output_type": "stream",
     "text": [
      "LR accuracy score on train data is 0.9992205767731879\n",
      "LR recall score on train data is 1.0\n",
      "LR precision score on train data is 0.9984326018808778\n",
      "LR f1 score on train data is 0.9992156862745099\n",
      "---------------------------\n",
      "LR accuracy score on test data is 1.0\n",
      "LR recall score on test data is 1.0\n",
      "LR precision score on test data is 1.0\n",
      "LR f1 score on test data is 1.0\n"
     ]
    }
   ],
   "source": [
    "# f1_score, recall_score,precision_score,accuracy_score\n",
    "# This happens because for precision/recall are defined using true positives, \n",
    "# so it wants to know which of your two classes should be considered \"positive\".\n",
    "\n",
    "\n",
    "print('LR accuracy score on train data is', accuracy_score(y, y_train_pre))\n",
    "print('LR recall score on train data is', recall_score(y, y_train_pre,pos_label='nightwish'))\n",
    "print('LR precision score on train data is' ,precision_score(y, y_train_pre,pos_label='nightwish'))\n",
    "print('LR f1 score on train data is' ,f1_score(y, y_train_pre,pos_label='nightwish'))\n",
    "# print('roc_auc_score score on train data is' ,roc_auc_score(y, y_train_pre))\n",
    "print('---------------------------')\n",
    "print('LR accuracy score on test data is', accuracy_score(ytest, y_test_pre))\n",
    "print('LR recall score on test data is', recall_score(ytest, y_test_pre,pos_label='nightwish'))\n",
    "print('LR precision score on test data is' ,precision_score(ytest, y_test_pre,pos_label='nightwish'))\n",
    "print('LR f1 score on test data is' ,f1_score(ytest, y_test_pre,pos_label='nightwish'))\n",
    "\n"
   ]
  },
  {
   "cell_type": "code",
   "execution_count": null,
   "id": "53b468bb",
   "metadata": {},
   "outputs": [],
   "source": []
  },
  {
   "cell_type": "code",
   "execution_count": 83,
   "id": "49b4b90a",
   "metadata": {},
   "outputs": [
    {
     "data": {
      "text/plain": [
       "0.9992205767731879"
      ]
     },
     "execution_count": 83,
     "metadata": {},
     "output_type": "execute_result"
    }
   ],
   "source": [
    "lr_classifier.score(X_y,y)"
   ]
  },
  {
   "cell_type": "code",
   "execution_count": 50,
   "id": "04bd1250",
   "metadata": {},
   "outputs": [
    {
     "data": {
      "text/plain": [
       "1.0"
      ]
     },
     "execution_count": 50,
     "metadata": {},
     "output_type": "execute_result"
    }
   ],
   "source": [
    "lr_classifier.score(Xtest,ytest)"
   ]
  },
  {
   "cell_type": "code",
   "execution_count": 118,
   "id": "ae5750a6",
   "metadata": {},
   "outputs": [],
   "source": [
    "u= ([\"On his way to dinner when it took him by surprise And with one pull of the trigger he would vanish overnight Dancing by the roadside, holding on for dear life Then a gun from out of nowhere made a widow of his wife  I don't mind, single file down the runway Feelin' fine and I see you, my friend Over and over again  Who can we get on the case? We need Perry Mason Someone to put you in place Calling Perry Mason again Again  Riding painted horses, oh the kids they love it so You can see it on their faces, how they love the wind to blow Minding my own business like my mama always said But if I don't try to help 'em they could wind up on the front page  I don't mind, draw the line, then draw me an arrow Feelin' fine, then I'll see you, my friend Over and over again  Who can we get on the case? We need Perry Mason Someone to put you in place Calling Perry Mason again Again  Wake me when it's over, tell me it's all right Just keep on talking, baby, I've been doing this all night How much did you give me, tell me it'll be all right  Then I'll see you, my friend Over and over again  Who can we get on the case? We need Perry Mason Someone to put you in place Calling Perry Mason again Again, again, again\"])"
   ]
  },
  {
   "cell_type": "code",
   "execution_count": 119,
   "id": "555077d9",
   "metadata": {},
   "outputs": [],
   "source": [
    "u1=vectorizer.transform(u)"
   ]
  },
  {
   "cell_type": "code",
   "execution_count": 120,
   "id": "e4409d38",
   "metadata": {},
   "outputs": [
    {
     "data": {
      "text/plain": [
       "array(['ozzy'], dtype='<U9')"
      ]
     },
     "execution_count": 120,
     "metadata": {},
     "output_type": "execute_result"
    }
   ],
   "source": [
    "lr_classifier.predict(u1)"
   ]
  },
  {
   "cell_type": "code",
   "execution_count": 121,
   "id": "13b4dedd",
   "metadata": {},
   "outputs": [
    {
     "data": {
      "text/plain": [
       "array(['ozzy'], dtype='<U9')"
      ]
     },
     "execution_count": 121,
     "metadata": {},
     "output_type": "execute_result"
    }
   ],
   "source": [
    "mnb.predict(u1)"
   ]
  },
  {
   "cell_type": "code",
   "execution_count": 84,
   "id": "248ed26f",
   "metadata": {},
   "outputs": [],
   "source": [
    "clf = RandomForestClassifier(max_depth=4, random_state=0)"
   ]
  },
  {
   "cell_type": "code",
   "execution_count": 85,
   "id": "0ba2e6a2",
   "metadata": {},
   "outputs": [
    {
     "data": {
      "text/plain": [
       "RandomForestClassifier(max_depth=4, random_state=0)"
      ]
     },
     "execution_count": 85,
     "metadata": {},
     "output_type": "execute_result"
    }
   ],
   "source": [
    "clf.fit(X_y,y)\n"
   ]
  },
  {
   "cell_type": "code",
   "execution_count": 100,
   "id": "26bd78c4",
   "metadata": {},
   "outputs": [],
   "source": [
    "rfy_test_pre=clf.predict(Xtest)"
   ]
  },
  {
   "cell_type": "code",
   "execution_count": 99,
   "id": "27996844",
   "metadata": {},
   "outputs": [],
   "source": [
    "rfy_train_pre=clf.predict(X_y)"
   ]
  },
  {
   "cell_type": "code",
   "execution_count": 163,
   "id": "62aa3cb3",
   "metadata": {},
   "outputs": [
    {
     "name": "stdout",
     "output_type": "stream",
     "text": [
      "RF accuracy score on train data is 0.9883086515978177\n",
      "RF recall score on train data is 0.9952904238618524\n",
      "RF precision score on train data is 0.9814241486068112\n",
      "RF f1 score on train data is 0.9883086515978177\n",
      "---------------------------\n",
      "RF accuracy score on test data is 0.990521327014218\n",
      "RF recall score on test data is 0.991044776119403\n",
      "RF precision score on test data is 0.991044776119403\n",
      "RF f1 score on test data is 0.991044776119403\n"
     ]
    }
   ],
   "source": [
    "print('RF accuracy score on train data is', accuracy_score(y, rfy_train_pre))\n",
    "print('RF recall score on train data is', recall_score(y, rfy_train_pre,pos_label='nightwish'))\n",
    "print('RF precision score on train data is' ,precision_score(y, rfy_train_pre,pos_label='nightwish'))\n",
    "print('RF f1 score on train data is' ,f1_score(y, rfy_train_pre,pos_label='nightwish'))\n",
    "# print('roc_auc_score score on train data is' ,roc_auc_score(y, y_train_pre))\n",
    "print('---------------------------')\n",
    "print('RF accuracy score on test data is', accuracy_score(ytest, rfy_test_pre))\n",
    "print('RF recall score on test data is', recall_score(ytest, rfy_test_pre,pos_label='nightwish'))\n",
    "print('RF precision score on test data is' ,precision_score(ytest, rfy_test_pre,pos_label='nightwish'))\n",
    "print('RF f1 score on test data is' ,f1_score(ytest, rfy_test_pre,pos_label='nightwish'))\n"
   ]
  },
  {
   "cell_type": "code",
   "execution_count": 132,
   "id": "df1720bd",
   "metadata": {},
   "outputs": [],
   "source": [
    "gnb = GaussianNB()\n",
    "gnb.fit(X_y,y)\n",
    "gnby_test_pre=gnb.predict(Xtest.toarray())\n",
    "gnby_train_pre=gnb.predict(X_y)"
   ]
  },
  {
   "cell_type": "code",
   "execution_count": 165,
   "id": "4b626bdf",
   "metadata": {},
   "outputs": [
    {
     "name": "stdout",
     "output_type": "stream",
     "text": [
      "gnb accuracy score on train data is 0.9922057677318784\n",
      "gnb recall score on train data is 0.9843014128728415\n",
      "gnb precision score on train data is 1.0\n",
      "gnb f1 score on train data is 0.9920886075949367\n",
      "---------------------------\n",
      "gnb accuracy score on test data is 0.985781990521327\n",
      "gnb recall score on test data is 0.9791044776119403\n",
      "gnb precision score on test data is 0.9939393939393939\n",
      "gnb f1 score on test data is 0.9864661654135337\n"
     ]
    }
   ],
   "source": [
    "print('gnb accuracy score on train data is', accuracy_score(y, gnby_train_pre))\n",
    "print('gnb recall score on train data is', recall_score(y, gnby_train_pre,pos_label='nightwish'))\n",
    "print('gnb precision score on train data is' ,precision_score(y, gnby_train_pre,pos_label='nightwish'))\n",
    "print('gnb f1 score on train data is' ,f1_score(y, gnby_train_pre,pos_label='nightwish'))\n",
    "# print('roc_auc_score score on train data is' ,roc_auc_score(y, y_train_pre))\n",
    "print('---------------------------')\n",
    "print('gnb accuracy score on test data is', accuracy_score(ytest, gnby_test_pre))\n",
    "print('gnb recall score on test data is', recall_score(ytest, gnby_test_pre,pos_label='nightwish'))\n",
    "print('gnb precision score on test data is' ,precision_score(ytest, gnby_test_pre,pos_label='nightwish'))\n",
    "print('gnb f1 score on test data is' ,f1_score(ytest, gnby_test_pre,pos_label='nightwish'))\n"
   ]
  },
  {
   "cell_type": "code",
   "execution_count": 114,
   "id": "7268d063",
   "metadata": {},
   "outputs": [],
   "source": [
    "MultinomialNB\n",
    "mnb = MultinomialNB()\n",
    "mnb.fit(X_y,y)\n",
    "mnby_test_pre=gnb.predict(Xtest)\n",
    "mnby_train_pre=gnb.predict(X_y)"
   ]
  },
  {
   "cell_type": "code",
   "execution_count": 164,
   "id": "e0b1e6a0",
   "metadata": {},
   "outputs": [
    {
     "name": "stdout",
     "output_type": "stream",
     "text": [
      "mnb accuracy score on train data is 0.990646921278254\n",
      "mnb recall score on train data is 0.9843014128728415\n",
      "mnb precision score on train data is 0.9968203497615262\n",
      "mnb f1 score on train data is 0.990521327014218\n",
      "---------------------------\n",
      "mnb accuracy score on test data is 0.9826224328593997\n",
      "mnb recall score on test data is 0.9791044776119403\n",
      "mnb precision score on test data is 0.9879518072289156\n",
      "mnb f1 score on test data is 0.9835082458770614\n"
     ]
    }
   ],
   "source": [
    "print('mnb accuracy score on train data is', accuracy_score(y, mnby_train_pre))\n",
    "print('mnb recall score on train data is', recall_score(y, mnby_train_pre,pos_label='nightwish'))\n",
    "print('mnb precision score on train data is' ,precision_score(y, mnby_train_pre,pos_label='nightwish'))\n",
    "print('mnb f1 score on train data is' ,f1_score(y, mnby_train_pre,pos_label='nightwish'))\n",
    "# print('roc_auc_score score on train data is' ,roc_auc_score(y, y_train_pre))\n",
    "print('---------------------------')\n",
    "print('mnb accuracy score on test data is', accuracy_score(ytest, mnby_test_pre))\n",
    "print('mnb recall score on test data is', recall_score(ytest, mnby_test_pre,pos_label='nightwish'))\n",
    "print('mnb precision score on test data is' ,precision_score(ytest, mnby_test_pre,pos_label='nightwish'))\n",
    "print('mnb f1 score on test data is' ,f1_score(ytest, mnby_test_pre,pos_label='nightwish'))\n"
   ]
  },
  {
   "cell_type": "code",
   "execution_count": null,
   "id": "abb25db0",
   "metadata": {},
   "outputs": [],
   "source": []
  },
  {
   "cell_type": "code",
   "execution_count": null,
   "id": "e1776621",
   "metadata": {},
   "outputs": [],
   "source": []
  },
  {
   "cell_type": "code",
   "execution_count": 129,
   "id": "74bb4128",
   "metadata": {},
   "outputs": [
    {
     "name": "stdout",
     "output_type": "stream",
     "text": [
      "Namespace(from='yitian', to='everyone')\n"
     ]
    }
   ],
   "source": [
    "import argparse\n",
    "\n",
    "parser = argparse.ArgumentParser()\n",
    "parser.add_argument('-from', type=str)\n",
    "parser.add_argument('-to', type=str, default='everyone')\n",
    "\n",
    "args = parser.parse_args('-from yitian'.split(' '))\n",
    "print(args)"
   ]
  },
  {
   "cell_type": "code",
   "execution_count": 130,
   "id": "d728afe1",
   "metadata": {},
   "outputs": [
    {
     "data": {
      "text/plain": [
       "['-from', 'yitian']"
      ]
     },
     "execution_count": 130,
     "metadata": {},
     "output_type": "execute_result"
    }
   ],
   "source": [
    "'-from yitian'.split(' ')"
   ]
  },
  {
   "cell_type": "markdown",
   "id": "254b2c96",
   "metadata": {},
   "source": [
    "https://www.youtube.com/watch?v=GiqjQx-YZd0"
   ]
  },
  {
   "cell_type": "markdown",
   "id": "4b802529",
   "metadata": {},
   "source": [
    "https://chairnerd.seatgeek.com/fuzzywuzzy-fuzzy-string-matching-in-python/\n"
   ]
  },
  {
   "cell_type": "markdown",
   "id": "c21298a2",
   "metadata": {},
   "source": [
    "https://www.nltk.org/_modules/nltk/stem/porter.html"
   ]
  }
 ],
 "metadata": {
  "kernelspec": {
   "display_name": "Python 3",
   "language": "python",
   "name": "python3"
  },
  "language_info": {
   "codemirror_mode": {
    "name": "ipython",
    "version": 3
   },
   "file_extension": ".py",
   "mimetype": "text/x-python",
   "name": "python",
   "nbconvert_exporter": "python",
   "pygments_lexer": "ipython3",
   "version": "3.8.8"
  }
 },
 "nbformat": 4,
 "nbformat_minor": 5
}
